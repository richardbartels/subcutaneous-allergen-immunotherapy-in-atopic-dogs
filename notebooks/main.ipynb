{
 "cells": [
  {
   "cell_type": "markdown",
   "metadata": {},
   "source": [
    "# Efficacy of subcutaneous allergen immunotherapy in atopic dogs: a retrospective study of 664 cases"
   ]
  },
  {
   "cell_type": "code",
   "execution_count": 1,
   "metadata": {},
   "outputs": [],
   "source": [
    "%reload_ext autoreload\n",
    "%autoreload 2\n",
    "\n",
    "import logging\n",
    "import os\n",
    "import sys\n",
    "\n",
    "import numpy as np\n",
    "import pandas as pd\n",
    "import scipy\n",
    "\n",
    "sys.path.append(\"..\")\n",
    "\n",
    "from src import DATA_PATH, PROJECTDIR, TIMESTAMP\n",
    "\n",
    "logger = logging.getLogger()\n",
    "logger.setLevel(logging.INFO)\n",
    "\n",
    "# Create STDERR handler\n",
    "handler = logging.StreamHandler(sys.stderr)\n",
    "\n",
    "# Create formatter and add it to the handler\n",
    "formatter = logging.Formatter('%(name)s - %(levelname)s - %(message)s')\n",
    "handler.setFormatter(formatter)\n",
    "\n",
    "# Set STDERR handler as the only handler \n",
    "logger.handlers = [handler]\n",
    "\n",
    "from src.data import load_preprocess_data\n",
    "from src.statistics import (normality_test, \n",
    "                            get_basic_distribution_characteristics, \n",
    "                            logit_ordinal_regression, \n",
    "                            chi2_test, \n",
    "                            kendall_tau)"
   ]
  },
  {
   "cell_type": "markdown",
   "metadata": {},
   "source": [
    "## Load Data"
   ]
  },
  {
   "cell_type": "code",
   "execution_count": 2,
   "metadata": {
    "scrolled": true
   },
   "outputs": [
    {
     "name": "stderr",
     "output_type": "stream",
     "text": [
      "/Users/richardbartels/opt/anaconda3/envs/atopische_dermatitis2/lib/python3.9/site-packages/openpyxl/worksheet/_reader.py:312: UserWarning: Data Validation extension is not supported and will be removed\n",
      "  warn(msg)\n",
      "root - INFO - Number of rows without ASIT test 240\n",
      "root - INFO - Efficiency not measured for all patients without ASIT:     True\n",
      "root - INFO - Total number of ASIT patients: 664\n",
      "root - INFO - Unique patients: 664\n",
      "root - INFO - 1 patients with an age below 0, removing.\n",
      "root - INFO - Patients with age information: 643\n"
     ]
    }
   ],
   "source": [
    "df = load_preprocess_data(DATA_PATH)"
   ]
  },
  {
   "cell_type": "markdown",
   "metadata": {},
   "source": [
    "## Analysis"
   ]
  },
  {
   "cell_type": "markdown",
   "metadata": {},
   "source": [
    "### Descriptive statistics"
   ]
  },
  {
   "cell_type": "code",
   "execution_count": 3,
   "metadata": {},
   "outputs": [
    {
     "name": "stderr",
     "output_type": "stream",
     "text": [
      "root - INFO - ShapiroResult(statistic=0.9421927332878113, pvalue=4.050946081672006e-15)\n",
      "root - INFO - Min (max): 0.5 (12.3)\n",
      "root - INFO - Mean: 4.0829040231276075\n",
      "root - INFO - Median: 3.66\n",
      "root - INFO - Interquartile range [25-75%]: 2.2 - 5.5\n"
     ]
    }
   ],
   "source": [
    "ages = df.loc[df['age_info'], 'Leeftijd start'].values\n",
    "normality_test(ages)\n",
    "get_basic_distribution_characteristics(ages)"
   ]
  },
  {
   "cell_type": "markdown",
   "metadata": {},
   "source": [
    "### Response rates\n",
    "We compute the percentages of the population $\\left(\\vec\\theta\\right)$ with poor, good and excellent response to AIT. We use a Dirichlet prior $P\\left(\\left.\\vec{\\theta}\\right|\\vec\\alpha\\right)$, the conjugate prior for the multinomial distribution. We start with $\\vec \\alpha = (1, 1, 1)$. The parameters get updated as, $\\vec \\alpha' = \\vec n + \\vec \\alpha$.\n",
    "\n",
    "The marginal posterior is $\\vec \\theta \\sim \\text{Beta}\\left(\\vec \\alpha, \\alpha_\\mathrm{total} - \\vec \\alpha\\right)$ where $\\alpha_\\mathrm{total} = \\alpha_0 + \\alpha_1 + \\alpha_2$."
   ]
  },
  {
   "cell_type": "code",
   "execution_count": 4,
   "metadata": {},
   "outputs": [],
   "source": [
    "from src.statistics import get_posterior_distributions, get_goodman_interval"
   ]
  },
  {
   "cell_type": "markdown",
   "metadata": {},
   "source": [
    "For 2 classes"
   ]
  },
  {
   "cell_type": "code",
   "execution_count": 5,
   "metadata": {
    "scrolled": true
   },
   "outputs": [
    {
     "name": "stderr",
     "output_type": "stream",
     "text": [
      "root - INFO - Total samples: 664\n",
      "root - INFO - --- 1.0 samples: 664 ---\n",
      "root - INFO - Confidence interval for efficiency = 0\n",
      "root - INFO - 40.1% (n = 266, 95% C.I.: 35.9% - 44.4%)\n",
      "\n",
      "root - INFO - Confidence interval for efficiency = 1\n",
      "root - INFO - 59.9% (n = 398, 95% C.I.: 55.6% - 64.1%)\n",
      "\n"
     ]
    }
   ],
   "source": [
    "get_goodman_interval(df, col='Effectiviteit 03', alpha=0.05)\n",
    "# get_posterior_distributions(df, col='Effectiviteit 03')"
   ]
  },
  {
   "cell_type": "markdown",
   "metadata": {},
   "source": [
    "For 3 efficiency classes"
   ]
  },
  {
   "cell_type": "code",
   "execution_count": 6,
   "metadata": {},
   "outputs": [
    {
     "name": "stderr",
     "output_type": "stream",
     "text": [
      "root - INFO - Total samples: 664\n",
      "root - INFO - --- 1.0 samples: 664 ---\n",
      "root - INFO - Confidence interval for efficiency = 0\n",
      "root - INFO - 40.1% (n = 266, 95% C.I.: 35.6% - 44.7%)\n",
      "\n",
      "root - INFO - Confidence interval for efficiency = 1\n",
      "root - INFO - 28.5% (n = 189, 95% C.I.: 24.5% - 32.8%)\n",
      "\n",
      "root - INFO - Confidence interval for efficiency = 2\n",
      "root - INFO - 31.5% (n = 209, 95% C.I.: 27.3% - 35.9%)\n",
      "\n"
     ]
    }
   ],
   "source": [
    "get_goodman_interval(df, col='Effectiviteit', alpha=0.05)\n",
    "# get_posterior_distributions(df, col='Effectiviteit')"
   ]
  },
  {
   "cell_type": "markdown",
   "metadata": {},
   "source": [
    "## Correlation studies"
   ]
  },
  {
   "cell_type": "markdown",
   "metadata": {},
   "source": [
    "### Breed\n",
    "#### 2 response categories"
   ]
  },
  {
   "cell_type": "code",
   "execution_count": 7,
   "metadata": {},
   "outputs": [
    {
     "name": "stderr",
     "output_type": "stream",
     "text": [
      "root - INFO - Patients analyzed: 623\n",
      "root - INFO - Total samples: 623\n",
      "root - INFO - --- 1 samples: 56 ---\n",
      "root - INFO - Confidence interval for efficiency = 0\n",
      "root - INFO - 48.2% (n = 27, 95% C.I.: 34.0% - 62.7%)\n",
      "\n",
      "root - INFO - Confidence interval for efficiency = 1\n",
      "root - INFO - 51.8% (n = 29, 95% C.I.: 37.3% - 66.0%)\n",
      "\n",
      "root - INFO - --- 2 samples: 72 ---\n",
      "root - INFO - Confidence interval for efficiency = 0\n",
      "root - INFO - 34.7% (n = 25, 95% C.I.: 23.5% - 47.9%)\n",
      "\n",
      "root - INFO - Confidence interval for efficiency = 1\n",
      "root - INFO - 65.3% (n = 47, 95% C.I.: 52.1% - 76.5%)\n",
      "\n",
      "root - INFO - --- 3 samples: 106 ---\n",
      "root - INFO - Confidence interval for efficiency = 0\n",
      "root - INFO - 43.4% (n = 46, 95% C.I.: 33.1% - 54.2%)\n",
      "\n",
      "root - INFO - Confidence interval for efficiency = 1\n",
      "root - INFO - 56.6% (n = 60, 95% C.I.: 45.8% - 66.9%)\n",
      "\n",
      "root - INFO - --- 4 samples: 7 ---\n",
      "root - INFO - Confidence interval for efficiency = 0\n",
      "root - INFO - 28.6% (n = 2, 95% C.I.: 7.0% - 68.1%)\n",
      "\n",
      "root - INFO - Confidence interval for efficiency = 1\n",
      "root - INFO - 71.4% (n = 5, 95% C.I.: 31.9% - 93.0%)\n",
      "\n",
      "root - INFO - --- 5 samples: 13 ---\n",
      "root - INFO - Confidence interval for efficiency = 0\n",
      "root - INFO - 38.5% (n = 5, 95% C.I.: 15.8% - 67.6%)\n",
      "\n",
      "root - INFO - Confidence interval for efficiency = 1\n",
      "root - INFO - 61.5% (n = 8, 95% C.I.: 32.4% - 84.2%)\n",
      "\n",
      "root - INFO - --- 6 samples: 17 ---\n",
      "root - INFO - Confidence interval for efficiency = 0\n",
      "root - INFO - 17.6% (n = 3, 95% C.I.: 5.4% - 44.7%)\n",
      "\n",
      "root - INFO - Confidence interval for efficiency = 1\n",
      "root - INFO - 82.4% (n = 14, 95% C.I.: 55.3% - 94.6%)\n",
      "\n",
      "root - INFO - --- 7 samples: 21 ---\n",
      "root - INFO - Confidence interval for efficiency = 0\n",
      "root - INFO - 47.6% (n = 10, 95% C.I.: 26.1% - 70.0%)\n",
      "\n",
      "root - INFO - Confidence interval for efficiency = 1\n",
      "root - INFO - 52.4% (n = 11, 95% C.I.: 30.0% - 73.9%)\n",
      "\n",
      "root - INFO - --- 8 samples: 179 ---\n",
      "root - INFO - Confidence interval for efficiency = 0\n",
      "root - INFO - 35.8% (n = 64, 95% C.I.: 28.2% - 44.1%)\n",
      "\n",
      "root - INFO - Confidence interval for efficiency = 1\n",
      "root - INFO - 64.2% (n = 115, 95% C.I.: 55.9% - 71.8%)\n",
      "\n",
      "root - INFO - --- 9 samples: 58 ---\n",
      "root - INFO - Confidence interval for efficiency = 0\n",
      "root - INFO - 48.3% (n = 28, 95% C.I.: 34.3% - 62.5%)\n",
      "\n",
      "root - INFO - Confidence interval for efficiency = 1\n",
      "root - INFO - 51.7% (n = 30, 95% C.I.: 37.5% - 65.7%)\n",
      "\n",
      "root - INFO - --- 10 samples: 3 ---\n",
      "root - INFO - Confidence interval for efficiency = 0\n",
      "root - INFO - 33.3% (n = 1, 95% C.I.: 5.0% - 82.5%)\n",
      "\n",
      "root - INFO - Confidence interval for efficiency = 1\n",
      "root - INFO - 66.7% (n = 2, 95% C.I.: 17.5% - 95.0%)\n",
      "\n",
      "root - INFO - --- cb samples: 91 ---\n",
      "root - INFO - Confidence interval for efficiency = 0\n",
      "root - INFO - 34.1% (n = 31, 95% C.I.: 24.0% - 45.8%)\n",
      "\n",
      "root - INFO - Confidence interval for efficiency = 1\n",
      "root - INFO - 65.9% (n = 60, 95% C.I.: 54.2% - 76.0%)\n",
      "\n"
     ]
    }
   ],
   "source": [
    "get_goodman_interval(df, col='Effectiviteit 03', predictor='Rasgroep')\n",
    "# get_posterior_distributions(df, col='Effectiviteit 03', predictor='Rasgroep')"
   ]
  },
  {
   "cell_type": "markdown",
   "metadata": {},
   "source": [
    "#### 3 groups"
   ]
  },
  {
   "cell_type": "code",
   "execution_count": 8,
   "metadata": {
    "scrolled": false
   },
   "outputs": [
    {
     "name": "stderr",
     "output_type": "stream",
     "text": [
      "root - INFO - Patients analyzed: 623\n",
      "root - INFO - Total samples: 623\n",
      "root - INFO - --- 1 samples: 56 ---\n",
      "root - INFO - Confidence interval for efficiency = 0\n",
      "root - INFO - 48.2% (n = 27, 95% C.I.: 33.2% - 63.6%)\n",
      "\n",
      "root - INFO - Confidence interval for efficiency = 1\n",
      "root - INFO - 30.4% (n = 17, 95% C.I.: 18.1% - 46.3%)\n",
      "\n",
      "root - INFO - Confidence interval for efficiency = 2\n",
      "root - INFO - 21.4% (n = 12, 95% C.I.: 11.3% - 36.9%)\n",
      "\n",
      "root - INFO - --- 2 samples: 72 ---\n",
      "root - INFO - Confidence interval for efficiency = 0\n",
      "root - INFO - 34.7% (n = 25, 95% C.I.: 22.9% - 48.8%)\n",
      "\n",
      "root - INFO - Confidence interval for efficiency = 1\n",
      "root - INFO - 31.9% (n = 23, 95% C.I.: 20.5% - 46.0%)\n",
      "\n",
      "root - INFO - Confidence interval for efficiency = 2\n",
      "root - INFO - 33.3% (n = 24, 95% C.I.: 21.7% - 47.4%)\n",
      "\n",
      "root - INFO - --- 3 samples: 106 ---\n",
      "root - INFO - Confidence interval for efficiency = 0\n",
      "root - INFO - 43.4% (n = 46, 95% C.I.: 32.5% - 55.0%)\n",
      "\n",
      "root - INFO - Confidence interval for efficiency = 1\n",
      "root - INFO - 28.3% (n = 30, 95% C.I.: 19.2% - 39.7%)\n",
      "\n",
      "root - INFO - Confidence interval for efficiency = 2\n",
      "root - INFO - 28.3% (n = 30, 95% C.I.: 19.2% - 39.7%)\n",
      "\n",
      "root - INFO - --- 4 samples: 7 ---\n",
      "root - INFO - Confidence interval for efficiency = 0\n",
      "root - INFO - 28.6% (n = 2, 95% C.I.: 6.4% - 70.0%)\n",
      "\n",
      "root - INFO - Confidence interval for efficiency = 1\n",
      "root - INFO - 57.1% (n = 4, 95% C.I.: 20.6% - 87.3%)\n",
      "\n",
      "root - INFO - Confidence interval for efficiency = 2\n",
      "root - INFO - 14.3% (n = 1, 95% C.I.: 1.9% - 58.8%)\n",
      "\n",
      "root - INFO - --- 5 samples: 13 ---\n",
      "root - INFO - Confidence interval for efficiency = 0\n",
      "root - INFO - 38.5% (n = 5, 95% C.I.: 14.9% - 69.1%)\n",
      "\n",
      "root - INFO - Confidence interval for efficiency = 1\n",
      "root - INFO - 30.8% (n = 4, 95% C.I.: 10.5% - 62.9%)\n",
      "\n",
      "root - INFO - Confidence interval for efficiency = 2\n",
      "root - INFO - 30.8% (n = 4, 95% C.I.: 10.5% - 62.9%)\n",
      "\n",
      "root - INFO - --- 6 samples: 17 ---\n",
      "root - INFO - Confidence interval for efficiency = 0\n",
      "root - INFO - 17.6% (n = 3, 95% C.I.: 5.0% - 46.6%)\n",
      "\n",
      "root - INFO - Confidence interval for efficiency = 1\n",
      "root - INFO - 29.4% (n = 5, 95% C.I.: 11.1% - 58.1%)\n",
      "\n",
      "root - INFO - Confidence interval for efficiency = 2\n",
      "root - INFO - 52.9% (n = 9, 95% C.I.: 27.1% - 77.3%)\n",
      "\n",
      "root - INFO - --- 7 samples: 21 ---\n",
      "root - INFO - Confidence interval for efficiency = 0\n",
      "root - INFO - 47.6% (n = 10, 95% C.I.: 25.0% - 71.3%)\n",
      "\n",
      "root - INFO - Confidence interval for efficiency = 1\n",
      "root - INFO - 19.0% (n = 4, 95% C.I.: 6.3% - 45.0%)\n",
      "\n",
      "root - INFO - Confidence interval for efficiency = 2\n",
      "root - INFO - 33.3% (n = 7, 95% C.I.: 14.8% - 59.0%)\n",
      "\n",
      "root - INFO - --- 8 samples: 179 ---\n",
      "root - INFO - Confidence interval for efficiency = 0\n",
      "root - INFO - 35.8% (n = 64, 95% C.I.: 27.7% - 44.6%)\n",
      "\n",
      "root - INFO - Confidence interval for efficiency = 1\n",
      "root - INFO - 27.9% (n = 50, 95% C.I.: 20.7% - 36.5%)\n",
      "\n",
      "root - INFO - Confidence interval for efficiency = 2\n",
      "root - INFO - 36.3% (n = 65, 95% C.I.: 28.3% - 45.2%)\n",
      "\n",
      "root - INFO - --- 9 samples: 58 ---\n",
      "root - INFO - Confidence interval for efficiency = 0\n",
      "root - INFO - 48.3% (n = 28, 95% C.I.: 33.4% - 63.4%)\n",
      "\n",
      "root - INFO - Confidence interval for efficiency = 1\n",
      "root - INFO - 24.1% (n = 14, 95% C.I.: 13.4% - 39.5%)\n",
      "\n",
      "root - INFO - Confidence interval for efficiency = 2\n",
      "root - INFO - 27.6% (n = 16, 95% C.I.: 16.0% - 43.2%)\n",
      "\n",
      "root - INFO - --- 10 samples: 3 ---\n",
      "root - INFO - Confidence interval for efficiency = 0\n",
      "root - INFO - 33.3% (n = 1, 95% C.I.: 4.5% - 84.0%)\n",
      "\n",
      "root - INFO - Confidence interval for efficiency = 1\n",
      "root - INFO - 0.0% (n = 0, 95% C.I.: 0.0% - 65.6%)\n",
      "\n",
      "root - INFO - Confidence interval for efficiency = 2\n",
      "root - INFO - 66.7% (n = 2, 95% C.I.: 16.0% - 95.5%)\n",
      "\n",
      "root - INFO - --- cb samples: 91 ---\n",
      "root - INFO - Confidence interval for efficiency = 0\n",
      "root - INFO - 34.1% (n = 31, 95% C.I.: 23.4% - 46.6%)\n",
      "\n",
      "root - INFO - Confidence interval for efficiency = 1\n",
      "root - INFO - 34.1% (n = 31, 95% C.I.: 23.4% - 46.6%)\n",
      "\n",
      "root - INFO - Confidence interval for efficiency = 2\n",
      "root - INFO - 31.9% (n = 29, 95% C.I.: 21.5% - 44.3%)\n",
      "\n"
     ]
    }
   ],
   "source": [
    "get_goodman_interval(df, col='Effectiviteit', predictor='Rasgroep')\n",
    "# get_posterior_distributions(df, col='Effectiviteit', predictor='Rasgroep')"
   ]
  },
  {
   "cell_type": "code",
   "execution_count": 9,
   "metadata": {},
   "outputs": [
    {
     "name": "stderr",
     "output_type": "stream",
     "text": [
      "root - INFO - \n",
      "Ordinal regression using ['Rasgroep']\n",
      "root - INFO - Patients analyzed: 623\n",
      "root - INFO -                              OrderedModel Results                             \n",
      "==============================================================================\n",
      "Dep. Variable:          Effectiviteit   Log-Likelihood:                -674.87\n",
      "Model:                   OrderedModel   AIC:                             1374.\n",
      "Method:            Maximum Likelihood   BIC:                             1427.\n",
      "Date:                Fri, 22 Oct 2021                                         \n",
      "Time:                        18:33:25                                         \n",
      "No. Observations:                 623                                         \n",
      "Df Residuals:                     611                                         \n",
      "Df Model:                          12                                         \n",
      "================================================================================\n",
      "                   coef    std err          z      P>|z|      [0.025      0.975]\n",
      "--------------------------------------------------------------------------------\n",
      "Rasgroep: 10     0.1698      1.212      0.140      0.889      -2.205       2.545\n",
      "Rasgroep: 4      0.4895      0.662      0.740      0.460      -0.808       1.787\n",
      "Rasgroep: 5     -0.1336      0.527     -0.253      0.800      -1.167       0.900\n",
      "Rasgroep: 6      0.5127      0.469      1.094      0.274      -0.406       1.431\n",
      "Rasgroep: 7     -0.2636      0.443     -0.596      0.551      -1.131       0.604\n",
      "Rasgroep: 1     -0.6532      0.287     -2.273      0.023      -1.216      -0.090\n",
      "Rasgroep: 9     -0.2469      0.283     -0.871      0.384      -0.802       0.308\n",
      "Rasgroep: 2      0.0146      0.256      0.057      0.955      -0.487       0.516\n",
      "Rasgroep: cb     0.0121      0.235      0.052      0.959      -0.448       0.472\n",
      "Rasgroep: 3     -0.2510      0.227     -1.104      0.270      -0.697       0.195\n",
      "0/1             -0.5716      0.144     -3.963      0.000      -0.854      -0.289\n",
      "1/2              0.2048      0.066      3.087      0.002       0.075       0.335\n",
      "================================================================================\n",
      "root - INFO - Log-likelihoood ratio: 10.07\n",
      "root - INFO - LLR p-value: 0.43\n"
     ]
    }
   ],
   "source": [
    "_ = logit_ordinal_regression(df, 'Effectiviteit', ['Rasgroep'])"
   ]
  },
  {
   "cell_type": "code",
   "execution_count": 10,
   "metadata": {},
   "outputs": [
    {
     "name": "stderr",
     "output_type": "stream",
     "text": [
      "root - INFO - \n",
      "Chi-squared test for Rasgroep and Effectiviteit\n",
      "root - INFO - Patients analyzed: 623\n",
      "root - INFO - \n",
      "p-value: 0.44876\n",
      "root - INFO - dof: 20\n",
      "root - INFO - chi2: 20.147\n"
     ]
    }
   ],
   "source": [
    "chi2_test(df, 'Effectiviteit', 'Rasgroep')"
   ]
  },
  {
   "cell_type": "markdown",
   "metadata": {},
   "source": [
    "##### Retriever vs all other breeds (excluding cross-breed)"
   ]
  },
  {
   "cell_type": "code",
   "execution_count": 11,
   "metadata": {},
   "outputs": [
    {
     "name": "stderr",
     "output_type": "stream",
     "text": [
      "root - INFO - Patients analyzed: 532\n",
      "root - INFO - Total samples: 532\n",
      "root - INFO - --- 0.0 samples: 353 ---\n",
      "root - INFO - Confidence interval for efficiency = 0\n",
      "root - INFO - 41.6% (n = 147, 95% C.I.: 35.5% - 48.0%)\n",
      "\n",
      "root - INFO - Confidence interval for efficiency = 1\n",
      "root - INFO - 28.6% (n = 101, 95% C.I.: 23.2% - 34.7%)\n",
      "\n",
      "root - INFO - Confidence interval for efficiency = 2\n",
      "root - INFO - 29.7% (n = 105, 95% C.I.: 24.3% - 35.9%)\n",
      "\n",
      "root - INFO - --- 1.0 samples: 179 ---\n",
      "root - INFO - Confidence interval for efficiency = 0\n",
      "root - INFO - 35.8% (n = 64, 95% C.I.: 27.7% - 44.6%)\n",
      "\n",
      "root - INFO - Confidence interval for efficiency = 1\n",
      "root - INFO - 27.9% (n = 50, 95% C.I.: 20.7% - 36.5%)\n",
      "\n",
      "root - INFO - Confidence interval for efficiency = 2\n",
      "root - INFO - 36.3% (n = 65, 95% C.I.: 28.3% - 45.2%)\n",
      "\n",
      "root - INFO - Patients analyzed: 532\n",
      "root - INFO - KendalltauResult(correlation=0.06555353108683712, pvalue=0.10952858634127896)\n"
     ]
    }
   ],
   "source": [
    "get_goodman_interval(df, col='Effectiviteit', predictor='retriever')\n",
    "kendall_tau(df, 'Effectiviteit', 'retriever')"
   ]
  },
  {
   "cell_type": "markdown",
   "metadata": {},
   "source": [
    "### Gender\n",
    "#### 2  response categories"
   ]
  },
  {
   "cell_type": "code",
   "execution_count": 12,
   "metadata": {},
   "outputs": [
    {
     "name": "stderr",
     "output_type": "stream",
     "text": [
      "root - INFO - Patients analyzed: 664\n",
      "root - INFO - Total samples: 664\n",
      "root - INFO - --- man samples: 198 ---\n",
      "root - INFO - Confidence interval for efficiency = 0\n",
      "root - INFO - 40.4% (n = 80, 95% C.I.: 32.9% - 48.4%)\n",
      "\n",
      "root - INFO - Confidence interval for efficiency = 1\n",
      "root - INFO - 59.6% (n = 118, 95% C.I.: 51.6% - 67.1%)\n",
      "\n",
      "root - INFO - --- mannelijk gecastreerd samples: 162 ---\n",
      "root - INFO - Confidence interval for efficiency = 0\n",
      "root - INFO - 30.9% (n = 50, 95% C.I.: 23.4% - 39.5%)\n",
      "\n",
      "root - INFO - Confidence interval for efficiency = 1\n",
      "root - INFO - 69.1% (n = 112, 95% C.I.: 60.5% - 76.6%)\n",
      "\n",
      "root - INFO - --- vrouw samples: 96 ---\n",
      "root - INFO - Confidence interval for efficiency = 0\n",
      "root - INFO - 45.8% (n = 44, 95% C.I.: 34.9% - 57.2%)\n",
      "\n",
      "root - INFO - Confidence interval for efficiency = 1\n",
      "root - INFO - 54.2% (n = 52, 95% C.I.: 42.8% - 65.1%)\n",
      "\n",
      "root - INFO - --- vrouwelijk gecastreerd samples: 208 ---\n",
      "root - INFO - Confidence interval for efficiency = 0\n",
      "root - INFO - 44.2% (n = 92, 95% C.I.: 36.7% - 52.0%)\n",
      "\n",
      "root - INFO - Confidence interval for efficiency = 1\n",
      "root - INFO - 55.8% (n = 116, 95% C.I.: 48.0% - 63.3%)\n",
      "\n"
     ]
    }
   ],
   "source": [
    "get_goodman_interval(df, col='Effectiviteit 03', predictor='Geslacht')\n",
    "# get_posterior_distributions(df, col='Effectiviteit 03', predictor='Geslacht')"
   ]
  },
  {
   "cell_type": "code",
   "execution_count": 13,
   "metadata": {},
   "outputs": [
    {
     "name": "stderr",
     "output_type": "stream",
     "text": [
      "root - INFO - \n",
      "Chi-squared test for Geslacht and Effectiviteit 03\n",
      "root - INFO - Patients analyzed: 664\n",
      "root - INFO - \n",
      "p-value: 0.03584\n",
      "root - INFO - dof: 3\n",
      "root - INFO - chi2: 8.554\n"
     ]
    }
   ],
   "source": [
    "chi2_test(df, 'Effectiviteit 03', 'Geslacht')"
   ]
  },
  {
   "cell_type": "markdown",
   "metadata": {},
   "source": [
    "#### 3  response categories"
   ]
  },
  {
   "cell_type": "code",
   "execution_count": 14,
   "metadata": {},
   "outputs": [
    {
     "name": "stderr",
     "output_type": "stream",
     "text": [
      "root - INFO - Patients analyzed: 664\n",
      "root - INFO - Total samples: 664\n",
      "root - INFO - --- man samples: 198 ---\n",
      "root - INFO - Confidence interval for efficiency = 0\n",
      "root - INFO - 40.4% (n = 80, 95% C.I.: 32.4% - 48.9%)\n",
      "\n",
      "root - INFO - Confidence interval for efficiency = 1\n",
      "root - INFO - 26.3% (n = 52, 95% C.I.: 19.5% - 34.3%)\n",
      "\n",
      "root - INFO - Confidence interval for efficiency = 2\n",
      "root - INFO - 33.3% (n = 66, 95% C.I.: 25.9% - 41.7%)\n",
      "\n",
      "root - INFO - --- mannelijk gecastreerd samples: 162 ---\n",
      "root - INFO - Confidence interval for efficiency = 0\n",
      "root - INFO - 30.9% (n = 50, 95% C.I.: 23.0% - 40.1%)\n",
      "\n",
      "root - INFO - Confidence interval for efficiency = 1\n",
      "root - INFO - 37.0% (n = 60, 95% C.I.: 28.5% - 46.4%)\n",
      "\n",
      "root - INFO - Confidence interval for efficiency = 2\n",
      "root - INFO - 32.1% (n = 52, 95% C.I.: 24.1% - 41.4%)\n",
      "\n",
      "root - INFO - --- vrouw samples: 96 ---\n",
      "root - INFO - Confidence interval for efficiency = 0\n",
      "root - INFO - 45.8% (n = 44, 95% C.I.: 34.2% - 57.9%)\n",
      "\n",
      "root - INFO - Confidence interval for efficiency = 1\n",
      "root - INFO - 21.9% (n = 21, 95% C.I.: 13.5% - 33.4%)\n",
      "\n",
      "root - INFO - Confidence interval for efficiency = 2\n",
      "root - INFO - 32.3% (n = 31, 95% C.I.: 22.1% - 44.4%)\n",
      "\n",
      "root - INFO - --- vrouwelijk gecastreerd samples: 208 ---\n",
      "root - INFO - Confidence interval for efficiency = 0\n",
      "root - INFO - 44.2% (n = 92, 95% C.I.: 36.3% - 52.5%)\n",
      "\n",
      "root - INFO - Confidence interval for efficiency = 1\n",
      "root - INFO - 26.9% (n = 56, 95% C.I.: 20.3% - 34.8%)\n",
      "\n",
      "root - INFO - Confidence interval for efficiency = 2\n",
      "root - INFO - 28.8% (n = 60, 95% C.I.: 22.0% - 36.9%)\n",
      "\n"
     ]
    }
   ],
   "source": [
    "get_goodman_interval(df, col='Effectiviteit', predictor='Geslacht')\n",
    "# get_posterior_distributions(df, col='Effectiviteit', predictor='Geslacht')"
   ]
  },
  {
   "cell_type": "code",
   "execution_count": 15,
   "metadata": {},
   "outputs": [
    {
     "name": "stderr",
     "output_type": "stream",
     "text": [
      "root - INFO - \n",
      "Chi-squared test for Geslacht and Effectiviteit\n",
      "root - INFO - Patients analyzed: 664\n",
      "root - INFO - \n",
      "p-value: 0.06198\n",
      "root - INFO - dof: 6\n",
      "root - INFO - chi2: 12.000\n",
      "root - INFO - Patients analyzed: 664\n",
      "root - INFO - KendalltauResult(correlation=-0.043638088785869354, pvalue=0.1945978331751751)\n"
     ]
    }
   ],
   "source": [
    "chi2_test(df, 'Effectiviteit', 'Geslacht')\n",
    "kendall_tau(df, 'Effectiviteit', 'Geslacht')"
   ]
  },
  {
   "cell_type": "code",
   "execution_count": 16,
   "metadata": {},
   "outputs": [
    {
     "name": "stderr",
     "output_type": "stream",
     "text": [
      "root - INFO - \n",
      "Ordinal regression using ['Geslacht']\n",
      "root - INFO - Patients analyzed: 664\n",
      "root - INFO -                              OrderedModel Results                             \n",
      "==============================================================================\n",
      "Dep. Variable:          Effectiviteit   Log-Likelihood:                -720.32\n",
      "Model:                   OrderedModel   AIC:                             1451.\n",
      "Method:            Maximum Likelihood   BIC:                             1473.\n",
      "Date:                Fri, 22 Oct 2021                                         \n",
      "Time:                        18:33:26                                         \n",
      "No. Observations:                 664                                         \n",
      "Df Residuals:                     659                                         \n",
      "Df Model:                           5                                         \n",
      "===================================================================================================\n",
      "                                      coef    std err          z      P>|z|      [0.025      0.975]\n",
      "---------------------------------------------------------------------------------------------------\n",
      "Geslacht: vrouw                     0.0264      0.233      0.113      0.910      -0.430       0.483\n",
      "Geslacht: mannelijk gecastreerd     0.3642      0.191      1.908      0.056      -0.010       0.738\n",
      "Geslacht: man                       0.1891      0.185      1.023      0.306      -0.173       0.552\n",
      "0/1                                -0.2518      0.133     -1.897      0.058      -0.512       0.008\n",
      "1/2                                 0.1713      0.065      2.628      0.009       0.044       0.299\n",
      "===================================================================================================\n",
      "root - INFO - Log-likelihoood ratio: 4.18\n",
      "root - INFO - LLR p-value: 0.24\n"
     ]
    }
   ],
   "source": [
    "_ = logit_ordinal_regression(df, 'Effectiviteit', ['Geslacht'])"
   ]
  },
  {
   "cell_type": "markdown",
   "metadata": {},
   "source": [
    "### Age\n",
    "#### 2  response categories"
   ]
  },
  {
   "cell_type": "code",
   "execution_count": 17,
   "metadata": {},
   "outputs": [
    {
     "name": "stderr",
     "output_type": "stream",
     "text": [
      "root - INFO - Patients analyzed: 643\n",
      "root - INFO - Total samples: 643\n",
      "root - INFO - --- 0.0 samples: 352 ---\n",
      "root - INFO - Confidence interval for efficiency = 0\n",
      "root - INFO - 41.2% (n = 145, 95% C.I.: 35.5% - 47.2%)\n",
      "\n",
      "root - INFO - Confidence interval for efficiency = 1\n",
      "root - INFO - 58.8% (n = 207, 95% C.I.: 52.8% - 64.5%)\n",
      "\n",
      "root - INFO - --- 1.0 samples: 249 ---\n",
      "root - INFO - Confidence interval for efficiency = 0\n",
      "root - INFO - 37.3% (n = 93, 95% C.I.: 30.8% - 44.4%)\n",
      "\n",
      "root - INFO - Confidence interval for efficiency = 1\n",
      "root - INFO - 62.7% (n = 156, 95% C.I.: 55.6% - 69.2%)\n",
      "\n",
      "root - INFO - --- 2.0 samples: 42 ---\n",
      "root - INFO - Confidence interval for efficiency = 0\n",
      "root - INFO - 40.5% (n = 17, 95% C.I.: 25.4% - 57.6%)\n",
      "\n",
      "root - INFO - Confidence interval for efficiency = 1\n",
      "root - INFO - 59.5% (n = 25, 95% C.I.: 42.4% - 74.6%)\n",
      "\n",
      "root - INFO - \n",
      "Chi-squared test for age_cat and Effectiviteit 03\n",
      "root - INFO - Patients analyzed: 643\n",
      "root - INFO - \n",
      "p-value: 0.63350\n",
      "root - INFO - dof: 2\n",
      "root - INFO - chi2: 0.913\n"
     ]
    }
   ],
   "source": [
    "get_goodman_interval(df, col='Effectiviteit 03', predictor='age_cat')\n",
    "# get_posterior_distributions(df, col='Effectiviteit 03', predictor='age_cat')\n",
    "chi2_test(df, 'Effectiviteit 03', 'age_cat')"
   ]
  },
  {
   "cell_type": "markdown",
   "metadata": {},
   "source": [
    "#### 3  response categories"
   ]
  },
  {
   "cell_type": "code",
   "execution_count": 18,
   "metadata": {},
   "outputs": [
    {
     "name": "stderr",
     "output_type": "stream",
     "text": [
      "root - INFO - Patients analyzed: 643\n",
      "root - INFO - Total samples: 643\n",
      "root - INFO - --- 0.0 samples: 352 ---\n",
      "root - INFO - Confidence interval for efficiency = 0\n",
      "root - INFO - 41.2% (n = 145, 95% C.I.: 35.1% - 47.6%)\n",
      "\n",
      "root - INFO - Confidence interval for efficiency = 1\n",
      "root - INFO - 29.3% (n = 103, 95% C.I.: 23.8% - 35.4%)\n",
      "\n",
      "root - INFO - Confidence interval for efficiency = 2\n",
      "root - INFO - 29.5% (n = 104, 95% C.I.: 24.1% - 35.7%)\n",
      "\n",
      "root - INFO - --- 1.0 samples: 249 ---\n",
      "root - INFO - Confidence interval for efficiency = 0\n",
      "root - INFO - 37.3% (n = 93, 95% C.I.: 30.4% - 44.9%)\n",
      "\n",
      "root - INFO - Confidence interval for efficiency = 1\n",
      "root - INFO - 29.3% (n = 73, 95% C.I.: 22.9% - 36.6%)\n",
      "\n",
      "root - INFO - Confidence interval for efficiency = 2\n",
      "root - INFO - 33.3% (n = 83, 95% C.I.: 26.6% - 40.8%)\n",
      "\n",
      "root - INFO - --- 2.0 samples: 42 ---\n",
      "root - INFO - Confidence interval for efficiency = 0\n",
      "root - INFO - 40.5% (n = 17, 95% C.I.: 24.6% - 58.7%)\n",
      "\n",
      "root - INFO - Confidence interval for efficiency = 1\n",
      "root - INFO - 21.4% (n = 9, 95% C.I.: 10.2% - 39.5%)\n",
      "\n",
      "root - INFO - Confidence interval for efficiency = 2\n",
      "root - INFO - 38.1% (n = 16, 95% C.I.: 22.6% - 56.4%)\n",
      "\n",
      "root - INFO - \n",
      "Chi-squared test for age_cat and Effectiviteit\n",
      "root - INFO - Patients analyzed: 643\n",
      "root - INFO - \n",
      "p-value: 0.61591\n",
      "root - INFO - dof: 4\n",
      "root - INFO - chi2: 2.662\n"
     ]
    }
   ],
   "source": [
    "get_goodman_interval(df, col='Effectiviteit', predictor='age_cat')\n",
    "# get_posterior_distributions(df, col='Effectiviteit', predictor='age_cat')\n",
    "chi2_test(df, 'Effectiviteit', 'age_cat')"
   ]
  },
  {
   "cell_type": "code",
   "execution_count": 19,
   "metadata": {},
   "outputs": [
    {
     "name": "stderr",
     "output_type": "stream",
     "text": [
      "root - INFO - Patients analyzed: 643\n",
      "root - INFO - KendalltauResult(correlation=0.04219678724345772, pvalue=0.24498917086158734)\n"
     ]
    }
   ],
   "source": [
    "kendall_tau(df, x='Effectiviteit', y='age_cat')"
   ]
  },
  {
   "cell_type": "markdown",
   "metadata": {},
   "source": [
    "### Type of allergens"
   ]
  },
  {
   "cell_type": "code",
   "execution_count": 20,
   "metadata": {},
   "outputs": [
    {
     "name": "stderr",
     "output_type": "stream",
     "text": [
      "/var/folders/s1/v1dy45zj3zd0dm5by7bf2jc40000gn/T/ipykernel_73068/568949059.py:1: FutureWarning: Dropping of nuisance columns in DataFrame reductions (with 'numeric_only=None') is deprecated; in a future version this will raise TypeError.  Select only valid columns before calling the reduction.\n",
      "  df.loc[:, ['huidtest' in col for col in df.columns]].sum(axis=0).sort_values()[::-1]\n"
     ]
    },
    {
     "data": {
      "text/plain": [
       "Farinaemijt_huidtest       420.0\n",
       "Meelmijt_huidtest          411.0\n",
       "Copramijt_huidtest         409.0\n",
       "Hooimijt_huidtest          350.0\n",
       "Huisstofmijt_huidtest      136.0\n",
       "Graspollen_huidtest        107.0\n",
       "Kruiden_huidtest           105.0\n",
       "Boompollen_huidtest         72.0\n",
       "Vlo_huidtest                40.0\n",
       "Kattenepitheel_huidtest     37.0\n",
       "Malassezia_huidtest         18.0\n",
       "dtype: float64"
      ]
     },
     "execution_count": 20,
     "metadata": {},
     "output_type": "execute_result"
    }
   ],
   "source": [
    "df.loc[:, ['huidtest' in col for col in df.columns]].sum(axis=0).sort_values()[::-1]"
   ]
  },
  {
   "cell_type": "code",
   "execution_count": 21,
   "metadata": {},
   "outputs": [
    {
     "name": "stderr",
     "output_type": "stream",
     "text": [
      "/var/folders/s1/v1dy45zj3zd0dm5by7bf2jc40000gn/T/ipykernel_73068/3896078761.py:1: FutureWarning: Dropping of nuisance columns in DataFrame reductions (with 'numeric_only=None') is deprecated; in a future version this will raise TypeError.  Select only valid columns before calling the reduction.\n",
      "  df.loc[:, ['serologie' in col for col in df.columns]].sum(axis=0).sort_values()[::-1]\n"
     ]
    },
    {
     "data": {
      "text/plain": [
       "Farinaemijt_serologie       569.0\n",
       "Copramijt_serologie         565.0\n",
       "Meelmijt_serologie          540.0\n",
       "Hooimijt_serologie          357.0\n",
       "Huisstofmijt_serologie      248.0\n",
       "Graspollen_serologie        235.0\n",
       "Kruiden_serologie           191.0\n",
       "Boompollen_serologie        119.0\n",
       "Malassezia_serologie        114.0\n",
       "Vlo_serologie                49.0\n",
       "Kattenepitheel_serologie     28.0\n",
       "dtype: float64"
      ]
     },
     "execution_count": 21,
     "metadata": {},
     "output_type": "execute_result"
    }
   ],
   "source": [
    "df.loc[:, ['serologie' in col for col in df.columns]].sum(axis=0).sort_values()[::-1]"
   ]
  },
  {
   "cell_type": "markdown",
   "metadata": {},
   "source": [
    "#### 3 response categories\n",
    "##### skintest"
   ]
  },
  {
   "cell_type": "code",
   "execution_count": 22,
   "metadata": {},
   "outputs": [
    {
     "name": "stderr",
     "output_type": "stream",
     "text": [
      "root - INFO - Patients analyzed: 645\n",
      "root - INFO - Total samples: 645\n",
      "root - INFO - --- Mites and 1 pollen samples: 92 ---\n",
      "root - INFO - Confidence interval for efficiency = 0\n",
      "root - INFO - 39.1% (n = 36, 95% C.I.: 27.9% - 51.6%)\n",
      "\n",
      "root - INFO - Confidence interval for efficiency = 1\n",
      "root - INFO - 22.8% (n = 21, 95% C.I.: 14.1% - 34.7%)\n",
      "\n",
      "root - INFO - Confidence interval for efficiency = 2\n",
      "root - INFO - 38.0% (n = 35, 95% C.I.: 27.0% - 50.5%)\n",
      "\n",
      "root - INFO - --- Mites and 2+ pollen samples: 59 ---\n",
      "root - INFO - Confidence interval for efficiency = 0\n",
      "root - INFO - 44.1% (n = 26, 95% C.I.: 29.8% - 59.4%)\n",
      "\n",
      "root - INFO - Confidence interval for efficiency = 1\n",
      "root - INFO - 37.3% (n = 22, 95% C.I.: 24.0% - 52.8%)\n",
      "\n",
      "root - INFO - Confidence interval for efficiency = 2\n",
      "root - INFO - 18.6% (n = 11, 95% C.I.: 9.5% - 33.3%)\n",
      "\n",
      "root - INFO - --- Mites only samples: 372 ---\n",
      "root - INFO - Confidence interval for efficiency = 0\n",
      "root - INFO - 41.1% (n = 153, 95% C.I.: 35.2% - 47.3%)\n",
      "\n",
      "root - INFO - Confidence interval for efficiency = 1\n",
      "root - INFO - 29.0% (n = 108, 95% C.I.: 23.8% - 35.0%)\n",
      "\n",
      "root - INFO - Confidence interval for efficiency = 2\n",
      "root - INFO - 29.8% (n = 111, 95% C.I.: 24.5% - 35.8%)\n",
      "\n",
      "root - INFO - --- No mite/tree/weed/grass allergies samples: 82 ---\n",
      "root - INFO - Confidence interval for efficiency = 0\n",
      "root - INFO - 32.9% (n = 27, 95% C.I.: 22.0% - 46.1%)\n",
      "\n",
      "root - INFO - Confidence interval for efficiency = 1\n",
      "root - INFO - 25.6% (n = 21, 95% C.I.: 15.9% - 38.5%)\n",
      "\n",
      "root - INFO - Confidence interval for efficiency = 2\n",
      "root - INFO - 41.5% (n = 34, 95% C.I.: 29.4% - 54.6%)\n",
      "\n",
      "root - INFO - --- Pollen only samples: 40 ---\n",
      "root - INFO - Confidence interval for efficiency = 0\n",
      "root - INFO - 37.5% (n = 15, 95% C.I.: 21.9% - 56.3%)\n",
      "\n",
      "root - INFO - Confidence interval for efficiency = 1\n",
      "root - INFO - 30.0% (n = 12, 95% C.I.: 16.1% - 48.9%)\n",
      "\n",
      "root - INFO - Confidence interval for efficiency = 2\n",
      "root - INFO - 32.5% (n = 13, 95% C.I.: 18.0% - 51.4%)\n",
      "\n"
     ]
    }
   ],
   "source": [
    "get_goodman_interval(df, col='Effectiviteit', predictor='skintest')\n",
    "# get_posterior_distributions(df, col='Effectiviteit', predictor='skintest')"
   ]
  },
  {
   "cell_type": "code",
   "execution_count": 23,
   "metadata": {},
   "outputs": [
    {
     "name": "stderr",
     "output_type": "stream",
     "text": [
      "root - INFO - \n",
      "Chi-squared test for skintest and Effectiviteit\n",
      "root - INFO - Patients analyzed: 645\n",
      "root - INFO - \n",
      "p-value: 0.16751\n",
      "root - INFO - dof: 8\n",
      "root - INFO - chi2: 11.650\n"
     ]
    }
   ],
   "source": [
    "chi2_test(df, 'Effectiviteit', 'skintest')"
   ]
  },
  {
   "cell_type": "code",
   "execution_count": 24,
   "metadata": {},
   "outputs": [
    {
     "name": "stderr",
     "output_type": "stream",
     "text": [
      "root - INFO - \n",
      "Ordinal regression using ['skintest']\n",
      "root - INFO - Patients analyzed: 645\n",
      "root - INFO -                              OrderedModel Results                             \n",
      "==============================================================================\n",
      "Dep. Variable:          Effectiviteit   Log-Likelihood:                -699.27\n",
      "Model:                   OrderedModel   AIC:                             1411.\n",
      "Method:            Maximum Likelihood   BIC:                             1437.\n",
      "Date:                Fri, 22 Oct 2021                                         \n",
      "Time:                        18:33:27                                         \n",
      "No. Observations:                 645                                         \n",
      "Df Residuals:                     639                                         \n",
      "Df Model:                           6                                         \n",
      "=================================================================================================\n",
      "                                    coef    std err          z      P>|z|      [0.025      0.975]\n",
      "-------------------------------------------------------------------------------------------------\n",
      "skintest: Pollen only             0.0317      0.356      0.089      0.929      -0.666       0.729\n",
      "skintest: Mites and 2+ pollen    -0.6062      0.313     -1.936      0.053      -1.220       0.007\n",
      "skintest: Mites and 1 pollen     -0.0936      0.285     -0.329      0.742      -0.651       0.464\n",
      "skintest: Mites only             -0.3022      0.227     -1.330      0.183      -0.747       0.143\n",
      "0/1                              -0.6595      0.210     -3.137      0.002      -1.071      -0.247\n",
      "1/2                               0.1750      0.066      2.649      0.008       0.045       0.304\n",
      "=================================================================================================\n",
      "root - INFO - Log-likelihoood ratio: 5.67\n",
      "root - INFO - LLR p-value: 0.23\n"
     ]
    }
   ],
   "source": [
    "_ = logit_ordinal_regression(df, 'Effectiviteit', ['skintest'], \n",
    "                             drop_categories={'skintest': 'No mite/tree/weed/grass allergies'})"
   ]
  },
  {
   "cell_type": "markdown",
   "metadata": {},
   "source": [
    "We study the effect of no allergies vs different variants. Mites and 2+ pollen differs substantially (p = 0.02), however, when accounting for a Bonferroni correction this effect disappears."
   ]
  },
  {
   "cell_type": "code",
   "execution_count": 25,
   "metadata": {},
   "outputs": [
    {
     "name": "stderr",
     "output_type": "stream",
     "text": [
      "root - INFO - \n",
      "No allergies vs Mites + 2 pollen\n",
      "root - INFO - Patients analyzed: 141\n",
      "root - INFO - KendalltauResult(correlation=0.186892520880792, pvalue=0.019062449861720558)\n",
      "root - INFO - \n",
      "No allergies vs Mites + 1 pollen\n",
      "root - INFO - Patients analyzed: 174\n",
      "root - INFO - KendalltauResult(correlation=0.0517471674596969, pvalue=0.47159771290100017)\n",
      "root - INFO - \n",
      "No allergies vs Mites + 1 pollen\n",
      "root - INFO - Patients analyzed: 454\n",
      "root - INFO - KendalltauResult(correlation=0.08436410685797262, pvalue=0.05713549053011525)\n",
      "root - INFO - \n",
      "No allergies vs Mites + 1 pollen\n",
      "root - INFO - Patients analyzed: 122\n",
      "root - INFO - KendalltauResult(correlation=-0.07101056547959789, pvalue=0.4080164325950111)\n"
     ]
    }
   ],
   "source": [
    "logger.info(\"\\nNo allergies vs Mites + 2 pollen\")\n",
    "kendall_tau(df.loc[df['skintest'].isin(['No mite/tree/weed/grass allergies', \"Mites and 2+ pollen\"])],\n",
    "            'Effectiviteit',\n",
    "            'skintest')\n",
    "logger.info(\"\\nNo allergies vs Mites + 1 pollen\")\n",
    "kendall_tau(df.loc[df['skintest'].isin(['No mite/tree/weed/grass allergies', \"Mites and 1 pollen\"])],\n",
    "            'Effectiviteit',\n",
    "            'skintest')\n",
    "logger.info(\"\\nNo allergies vs Mites + 1 pollen\")\n",
    "kendall_tau(df.loc[df['skintest'].isin(['No mite/tree/weed/grass allergies', \"Mites only\"])],\n",
    "            'Effectiviteit',\n",
    "            'skintest')\n",
    "logger.info(\"\\nNo allergies vs Mites + 1 pollen\")\n",
    "kendall_tau(df.loc[df['skintest'].isin(['No mite/tree/weed/grass allergies', \"Pollen only\"])],\n",
    "            'Effectiviteit',\n",
    "            'skintest')"
   ]
  },
  {
   "cell_type": "markdown",
   "metadata": {},
   "source": [
    "##### Serology"
   ]
  },
  {
   "cell_type": "code",
   "execution_count": 26,
   "metadata": {},
   "outputs": [
    {
     "name": "stderr",
     "output_type": "stream",
     "text": [
      "root - INFO - Patients analyzed: 661\n",
      "root - INFO - Total samples: 661\n",
      "root - INFO - --- Mites and 1 pollen samples: 117 ---\n",
      "root - INFO - Confidence interval for efficiency = 0\n",
      "root - INFO - 40.2% (n = 47, 95% C.I.: 30.0% - 51.2%)\n",
      "\n",
      "root - INFO - Confidence interval for efficiency = 1\n",
      "root - INFO - 23.9% (n = 28, 95% C.I.: 15.8% - 34.4%)\n",
      "\n",
      "root - INFO - Confidence interval for efficiency = 2\n",
      "root - INFO - 35.9% (n = 42, 95% C.I.: 26.2% - 46.9%)\n",
      "\n",
      "root - INFO - --- Mites and 2+ pollen samples: 159 ---\n",
      "root - INFO - Confidence interval for efficiency = 0\n",
      "root - INFO - 40.3% (n = 64, 95% C.I.: 31.4% - 49.7%)\n",
      "\n",
      "root - INFO - Confidence interval for efficiency = 1\n",
      "root - INFO - 27.7% (n = 44, 95% C.I.: 20.1% - 36.8%)\n",
      "\n",
      "root - INFO - Confidence interval for efficiency = 2\n",
      "root - INFO - 32.1% (n = 51, 95% C.I.: 24.0% - 41.4%)\n",
      "\n",
      "root - INFO - --- Mites only samples: 329 ---\n",
      "root - INFO - Confidence interval for efficiency = 0\n",
      "root - INFO - 40.4% (n = 133, 95% C.I.: 34.2% - 47.0%)\n",
      "\n",
      "root - INFO - Confidence interval for efficiency = 1\n",
      "root - INFO - 28.6% (n = 94, 95% C.I.: 23.0% - 34.9%)\n",
      "\n",
      "root - INFO - Confidence interval for efficiency = 2\n",
      "root - INFO - 31.0% (n = 102, 95% C.I.: 25.3% - 37.4%)\n",
      "\n",
      "root - INFO - --- No mite/tree/weed/grass allergies samples: 36 ---\n",
      "root - INFO - Confidence interval for efficiency = 0\n",
      "root - INFO - 38.9% (n = 14, 95% C.I.: 22.3% - 58.5%)\n",
      "\n",
      "root - INFO - Confidence interval for efficiency = 1\n",
      "root - INFO - 44.4% (n = 16, 95% C.I.: 26.8% - 63.6%)\n",
      "\n",
      "root - INFO - Confidence interval for efficiency = 2\n",
      "root - INFO - 16.7% (n = 6, 95% C.I.: 6.7% - 35.8%)\n",
      "\n",
      "root - INFO - --- Pollen only samples: 20 ---\n",
      "root - INFO - Confidence interval for efficiency = 0\n",
      "root - INFO - 35.0% (n = 7, 95% C.I.: 15.6% - 61.1%)\n",
      "\n",
      "root - INFO - Confidence interval for efficiency = 1\n",
      "root - INFO - 35.0% (n = 7, 95% C.I.: 15.6% - 61.1%)\n",
      "\n",
      "root - INFO - Confidence interval for efficiency = 2\n",
      "root - INFO - 30.0% (n = 6, 95% C.I.: 12.4% - 56.5%)\n",
      "\n"
     ]
    }
   ],
   "source": [
    "get_goodman_interval(df, col='Effectiviteit', predictor='serology')"
   ]
  },
  {
   "cell_type": "code",
   "execution_count": 27,
   "metadata": {},
   "outputs": [
    {
     "name": "stderr",
     "output_type": "stream",
     "text": [
      "root - INFO - \n",
      "Chi-squared test for serology and Effectiviteit\n",
      "root - INFO - Patients analyzed: 661\n",
      "root - INFO - \n",
      "p-value: 0.44911\n",
      "root - INFO - dof: 8\n",
      "root - INFO - chi2: 7.841\n"
     ]
    }
   ],
   "source": [
    "chi2_test(df, 'Effectiviteit', 'serology')"
   ]
  },
  {
   "cell_type": "code",
   "execution_count": 28,
   "metadata": {},
   "outputs": [
    {
     "name": "stderr",
     "output_type": "stream",
     "text": [
      "root - INFO - \n",
      "Ordinal regression using ['serology']\n",
      "root - INFO - Patients analyzed: 661\n",
      "root - INFO -                              OrderedModel Results                             \n",
      "==============================================================================\n",
      "Dep. Variable:          Effectiviteit   Log-Likelihood:                -718.65\n",
      "Model:                   OrderedModel   AIC:                             1449.\n",
      "Method:            Maximum Likelihood   BIC:                             1476.\n",
      "Date:                Fri, 22 Oct 2021                                         \n",
      "Time:                        18:33:27                                         \n",
      "No. Observations:                 661                                         \n",
      "Df Residuals:                     655                                         \n",
      "Df Model:                           6                                         \n",
      "=================================================================================================\n",
      "                                    coef    std err          z      P>|z|      [0.025      0.975]\n",
      "-------------------------------------------------------------------------------------------------\n",
      "serology: Pollen only             0.3298      0.497      0.663      0.507      -0.645       1.304\n",
      "serology: Mites and 1 pollen      0.3367      0.340      0.991      0.322      -0.329       1.003\n",
      "serology: Mites and 2+ pollen     0.2538      0.327      0.776      0.438      -0.387       0.895\n",
      "serology: Mites only              0.2276      0.309      0.736      0.462      -0.379       0.834\n",
      "0/1                              -0.1606      0.293     -0.547      0.584      -0.736       0.415\n",
      "1/2                               0.1729      0.065      2.654      0.008       0.045       0.301\n",
      "=================================================================================================\n",
      "root - INFO - Log-likelihoood ratio: 1.06\n",
      "root - INFO - LLR p-value: 0.90\n"
     ]
    }
   ],
   "source": [
    "_ = logit_ordinal_regression(df, 'Effectiviteit', ['serology'], drop_categories={'serology': 'No mite/tree/weed/grass allergies'})"
   ]
  },
  {
   "cell_type": "markdown",
   "metadata": {},
   "source": [
    "### Number of allergens"
   ]
  },
  {
   "cell_type": "markdown",
   "metadata": {},
   "source": [
    "#### 2 response categories"
   ]
  },
  {
   "cell_type": "code",
   "execution_count": 29,
   "metadata": {},
   "outputs": [
    {
     "name": "stderr",
     "output_type": "stream",
     "text": [
      "root - INFO - Patients analyzed: 656\n",
      "root - INFO - KendalltauResult(correlation=-0.028511285465598418, pvalue=0.4282007442195893)\n"
     ]
    }
   ],
   "source": [
    "kendall_tau(df, 'Effectiviteit 03', 'number_allergens_cat')"
   ]
  },
  {
   "cell_type": "markdown",
   "metadata": {},
   "source": [
    "#### 3 response categories"
   ]
  },
  {
   "cell_type": "code",
   "execution_count": 30,
   "metadata": {},
   "outputs": [
    {
     "name": "stderr",
     "output_type": "stream",
     "text": [
      "root - INFO - Patients analyzed: 656\n",
      "root - INFO - Total samples: 656\n",
      "root - INFO - --- 1 samples: 11 ---\n",
      "root - INFO - Confidence interval for efficiency = 0\n",
      "root - INFO - 45.5% (n = 5, 95% C.I.: 17.8% - 76.2%)\n",
      "\n",
      "root - INFO - Confidence interval for efficiency = 1\n",
      "root - INFO - 45.5% (n = 5, 95% C.I.: 17.8% - 76.2%)\n",
      "\n",
      "root - INFO - Confidence interval for efficiency = 2\n",
      "root - INFO - 9.1% (n = 1, 95% C.I.: 1.2% - 45.0%)\n",
      "\n",
      "root - INFO - --- 2 samples: 16 ---\n",
      "root - INFO - Confidence interval for efficiency = 0\n",
      "root - INFO - 31.2% (n = 5, 95% C.I.: 11.9% - 60.5%)\n",
      "\n",
      "root - INFO - Confidence interval for efficiency = 1\n",
      "root - INFO - 25.0% (n = 4, 95% C.I.: 8.4% - 54.8%)\n",
      "\n",
      "root - INFO - Confidence interval for efficiency = 2\n",
      "root - INFO - 43.8% (n = 7, 95% C.I.: 19.9% - 70.9%)\n",
      "\n",
      "root - INFO - --- 3 samples: 49 ---\n",
      "root - INFO - Confidence interval for efficiency = 0\n",
      "root - INFO - 38.8% (n = 19, 95% C.I.: 24.1% - 55.8%)\n",
      "\n",
      "root - INFO - Confidence interval for efficiency = 1\n",
      "root - INFO - 22.4% (n = 11, 95% C.I.: 11.5% - 39.1%)\n",
      "\n",
      "root - INFO - Confidence interval for efficiency = 2\n",
      "root - INFO - 38.8% (n = 19, 95% C.I.: 24.1% - 55.8%)\n",
      "\n",
      "root - INFO - --- 4-6 samples: 287 ---\n",
      "root - INFO - Confidence interval for efficiency = 0\n",
      "root - INFO - 39.4% (n = 113, 95% C.I.: 32.7% - 46.4%)\n",
      "\n",
      "root - INFO - Confidence interval for efficiency = 1\n",
      "root - INFO - 29.3% (n = 84, 95% C.I.: 23.3% - 36.1%)\n",
      "\n",
      "root - INFO - Confidence interval for efficiency = 2\n",
      "root - INFO - 31.4% (n = 90, 95% C.I.: 25.2% - 38.2%)\n",
      "\n",
      "root - INFO - --- 6-9 samples: 154 ---\n",
      "root - INFO - Confidence interval for efficiency = 0\n",
      "root - INFO - 40.3% (n = 62, 95% C.I.: 31.3% - 49.9%)\n",
      "\n",
      "root - INFO - Confidence interval for efficiency = 1\n",
      "root - INFO - 29.2% (n = 45, 95% C.I.: 21.3% - 38.6%)\n",
      "\n",
      "root - INFO - Confidence interval for efficiency = 2\n",
      "root - INFO - 30.5% (n = 47, 95% C.I.: 22.5% - 40.0%)\n",
      "\n",
      "root - INFO - --- >9 samples: 139 ---\n",
      "root - INFO - Confidence interval for efficiency = 0\n",
      "root - INFO - 43.2% (n = 60, 95% C.I.: 33.6% - 53.3%)\n",
      "\n",
      "root - INFO - Confidence interval for efficiency = 1\n",
      "root - INFO - 25.2% (n = 35, 95% C.I.: 17.5% - 34.9%)\n",
      "\n",
      "root - INFO - Confidence interval for efficiency = 2\n",
      "root - INFO - 31.7% (n = 44, 95% C.I.: 23.1% - 41.7%)\n",
      "\n"
     ]
    }
   ],
   "source": [
    "get_goodman_interval(df, col='Effectiviteit', predictor='number_allergens_cat')\n",
    "# get_posterior_distributions(df, col='Effectiviteit', predictor='number_allergens_cat')"
   ]
  },
  {
   "cell_type": "code",
   "execution_count": 31,
   "metadata": {},
   "outputs": [
    {
     "name": "stderr",
     "output_type": "stream",
     "text": [
      "root - INFO - \n",
      "Chi-squared test for number_allergens_cat and Effectiviteit\n",
      "root - INFO - Patients analyzed: 656\n",
      "root - INFO - \n",
      "p-value: 0.76682\n",
      "root - INFO - dof: 10\n",
      "root - INFO - chi2: 6.553\n",
      "root - INFO - Patients analyzed: 656\n",
      "root - INFO - KendalltauResult(correlation=-0.023779605905653627, pvalue=0.48400114106265646)\n",
      "root - INFO - Patients analyzed: 656\n",
      "root - INFO - KendalltauResult(correlation=-0.023779605905653627, pvalue=0.48400114106265646)\n"
     ]
    }
   ],
   "source": [
    "chi2_test(df, col='Effectiviteit', predictor='number_allergens_cat')\n",
    "kendall_tau(df, 'Effectiviteit', 'number_allergens_cat')\n",
    "kendall_tau(df.replace({'number_allergens_cat': {'1': 1, '2': 2, '3': 3, '4-6': 4, '6-9': 5, '>9':6}}), \n",
    "            'Effectiviteit', \n",
    "            'number_allergens_cat')  # just a check that ordering works as intended"
   ]
  },
  {
   "cell_type": "markdown",
   "metadata": {},
   "source": [
    "### Number of re-checks\n",
    "#### 2 response categories"
   ]
  },
  {
   "cell_type": "code",
   "execution_count": 32,
   "metadata": {},
   "outputs": [
    {
     "name": "stderr",
     "output_type": "stream",
     "text": [
      "root - INFO - Patients analyzed: 664\n",
      "root - INFO - Total samples: 664\n",
      "root - INFO - --- Ja samples: 218 ---\n",
      "root - INFO - Confidence interval for efficiency = 0\n",
      "root - INFO - 30.7% (n = 67, 95% C.I.: 24.2% - 38.1%)\n",
      "\n",
      "root - INFO - Confidence interval for efficiency = 1\n",
      "root - INFO - 69.3% (n = 151, 95% C.I.: 61.9% - 75.8%)\n",
      "\n",
      "root - INFO - --- Nee samples: 446 ---\n",
      "root - INFO - Confidence interval for efficiency = 0\n",
      "root - INFO - 44.6% (n = 199, 95% C.I.: 39.4% - 49.9%)\n",
      "\n",
      "root - INFO - Confidence interval for efficiency = 1\n",
      "root - INFO - 55.4% (n = 247, 95% C.I.: 50.1% - 60.6%)\n",
      "\n"
     ]
    }
   ],
   "source": [
    "get_goodman_interval(df, col='Effectiviteit 03', predictor='Control')"
   ]
  },
  {
   "cell_type": "markdown",
   "metadata": {},
   "source": [
    "#### 3 response categories"
   ]
  },
  {
   "cell_type": "code",
   "execution_count": 33,
   "metadata": {},
   "outputs": [
    {
     "name": "stderr",
     "output_type": "stream",
     "text": [
      "root - INFO - Patients analyzed: 664\n",
      "root - INFO - Total samples: 664\n",
      "root - INFO - --- Ja samples: 218 ---\n",
      "root - INFO - Confidence interval for efficiency = 0\n",
      "root - INFO - 30.7% (n = 67, 95% C.I.: 23.8% - 38.6%)\n",
      "\n",
      "root - INFO - Confidence interval for efficiency = 1\n",
      "root - INFO - 26.6% (n = 58, 95% C.I.: 20.1% - 34.3%)\n",
      "\n",
      "root - INFO - Confidence interval for efficiency = 2\n",
      "root - INFO - 42.7% (n = 93, 95% C.I.: 34.9% - 50.8%)\n",
      "\n",
      "root - INFO - --- Nee samples: 446 ---\n",
      "root - INFO - Confidence interval for efficiency = 0\n",
      "root - INFO - 44.6% (n = 199, 95% C.I.: 39.1% - 50.3%)\n",
      "\n",
      "root - INFO - Confidence interval for efficiency = 1\n",
      "root - INFO - 29.4% (n = 131, 95% C.I.: 24.5% - 34.8%)\n",
      "\n",
      "root - INFO - Confidence interval for efficiency = 2\n",
      "root - INFO - 26.0% (n = 116, 95% C.I.: 21.4% - 31.3%)\n",
      "\n"
     ]
    }
   ],
   "source": [
    "get_goodman_interval(df, col='Effectiviteit', predictor='Control')\n",
    "# get_posterior_distributions(df, col='Effectiviteit', predictor='Control')"
   ]
  },
  {
   "cell_type": "code",
   "execution_count": 34,
   "metadata": {},
   "outputs": [
    {
     "name": "stderr",
     "output_type": "stream",
     "text": [
      "root - INFO - \n",
      "Chi-squared test for Control and Effectiviteit\n",
      "root - INFO - Patients analyzed: 664\n",
      "root - INFO - \n",
      "p-value: 0.00004\n",
      "root - INFO - dof: 2\n",
      "root - INFO - chi2: 20.340\n",
      "root - INFO - Patients analyzed: 664\n",
      "root - INFO - KendalltauResult(correlation=-0.1594381370221361, pvalue=1.368504675360796e-05)\n"
     ]
    }
   ],
   "source": [
    "chi2_test(df, 'Effectiviteit', 'Control')\n",
    "kendall_tau(df, 'Effectiviteit', 'Control')"
   ]
  },
  {
   "cell_type": "markdown",
   "metadata": {},
   "source": [
    "### Clinic\n",
    "#### 2 response categories"
   ]
  },
  {
   "cell_type": "code",
   "execution_count": 35,
   "metadata": {
    "scrolled": true
   },
   "outputs": [
    {
     "name": "stderr",
     "output_type": "stream",
     "text": [
      "root - INFO - Patients analyzed: 664\n",
      "root - INFO - Total samples: 664\n",
      "root - INFO - --- MCD samples: 511 ---\n",
      "root - INFO - Confidence interval for efficiency = 0\n",
      "root - INFO - 37.4% (n = 191, 95% C.I.: 32.7% - 42.3%)\n",
      "\n",
      "root - INFO - Confidence interval for efficiency = 1\n",
      "root - INFO - 62.6% (n = 320, 95% C.I.: 57.7% - 67.3%)\n",
      "\n",
      "root - INFO - --- UKG samples: 153 ---\n",
      "root - INFO - Confidence interval for efficiency = 0\n",
      "root - INFO - 49.0% (n = 75, 95% C.I.: 40.1% - 58.0%)\n",
      "\n",
      "root - INFO - Confidence interval for efficiency = 1\n",
      "root - INFO - 51.0% (n = 78, 95% C.I.: 42.0% - 59.9%)\n",
      "\n",
      "root - INFO - \n",
      "Chi-squared test for Kliniek and Effectiviteit 03\n",
      "root - INFO - Patients analyzed: 664\n",
      "root - INFO - \n",
      "p-value: 0.01299\n",
      "root - INFO - dof: 1\n",
      "root - INFO - chi2: 6.170\n"
     ]
    }
   ],
   "source": [
    "get_goodman_interval(df, col='Effectiviteit 03', predictor='Kliniek')\n",
    "# get_posterior_distributions(df, col='Effectiviteit 03', predictor='Kliniek')\n",
    "chi2_test(df, 'Effectiviteit 03', 'Kliniek')"
   ]
  },
  {
   "cell_type": "markdown",
   "metadata": {},
   "source": [
    "#### 3 response categories"
   ]
  },
  {
   "cell_type": "code",
   "execution_count": 36,
   "metadata": {},
   "outputs": [
    {
     "name": "stderr",
     "output_type": "stream",
     "text": [
      "root - INFO - Patients analyzed: 664\n",
      "root - INFO - Total samples: 664\n",
      "root - INFO - --- MCD samples: 511 ---\n",
      "root - INFO - Confidence interval for efficiency = 0\n",
      "root - INFO - 37.4% (n = 191, 95% C.I.: 32.4% - 42.6%)\n",
      "\n",
      "root - INFO - Confidence interval for efficiency = 1\n",
      "root - INFO - 28.0% (n = 143, 95% C.I.: 23.5% - 33.0%)\n",
      "\n",
      "root - INFO - Confidence interval for efficiency = 2\n",
      "root - INFO - 34.6% (n = 177, 95% C.I.: 29.8% - 39.8%)\n",
      "\n",
      "root - INFO - --- UKG samples: 153 ---\n",
      "root - INFO - Confidence interval for efficiency = 0\n",
      "root - INFO - 49.0% (n = 75, 95% C.I.: 39.6% - 58.6%)\n",
      "\n",
      "root - INFO - Confidence interval for efficiency = 1\n",
      "root - INFO - 30.1% (n = 46, 95% C.I.: 22.0% - 39.5%)\n",
      "\n",
      "root - INFO - Confidence interval for efficiency = 2\n",
      "root - INFO - 20.9% (n = 32, 95% C.I.: 14.2% - 29.8%)\n",
      "\n"
     ]
    }
   ],
   "source": [
    "get_goodman_interval(df, col='Effectiviteit', predictor='Kliniek')\n",
    "# get_posterior_distributions(df, col='Effectiviteit', predictor='Kliniek')"
   ]
  },
  {
   "cell_type": "code",
   "execution_count": 37,
   "metadata": {},
   "outputs": [
    {
     "name": "stderr",
     "output_type": "stream",
     "text": [
      "root - INFO - \n",
      "Chi-squared test for Kliniek and Effectiviteit\n",
      "root - INFO - Patients analyzed: 664\n",
      "root - INFO - \n",
      "p-value: 0.00368\n",
      "root - INFO - dof: 2\n",
      "root - INFO - chi2: 11.207\n",
      "root - INFO - Patients analyzed: 664\n",
      "root - INFO - KendalltauResult(correlation=-0.11882723394803613, pvalue=0.0011905000910146313)\n"
     ]
    }
   ],
   "source": [
    "chi2_test(df, 'Effectiviteit', 'Kliniek')\n",
    "kendall_tau(df, 'Effectiviteit', 'Kliniek')"
   ]
  },
  {
   "cell_type": "code",
   "execution_count": 38,
   "metadata": {},
   "outputs": [
    {
     "name": "stderr",
     "output_type": "stream",
     "text": [
      "root - INFO - Patients analyzed: 446\n",
      "root - INFO - KendalltauResult(correlation=-0.08068950885077755, pvalue=0.07192467230929481)\n",
      "root - INFO - Patients analyzed: 218\n",
      "root - INFO - KendalltauResult(correlation=-0.016440067161240603, pvalue=0.7977513085855747)\n",
      "root - INFO - \n",
      "Ordinal regression using ['Kliniek', 'Control']\n",
      "root - INFO - Patients analyzed: 664\n",
      "root - INFO -                              OrderedModel Results                             \n",
      "==============================================================================\n",
      "Dep. Variable:          Effectiviteit   Log-Likelihood:                -711.19\n",
      "Model:                   OrderedModel   AIC:                             1430.\n",
      "Method:            Maximum Likelihood   BIC:                             1448.\n",
      "Date:                Fri, 22 Oct 2021                                         \n",
      "Time:                        18:33:29                                         \n",
      "No. Observations:                 664                                         \n",
      "Df Residuals:                     660                                         \n",
      "Df Model:                           4                                         \n",
      "================================================================================\n",
      "                   coef    std err          z      P>|z|      [0.025      0.975]\n",
      "--------------------------------------------------------------------------------\n",
      "Kliniek: UKG    -0.3288      0.184     -1.789      0.074      -0.689       0.031\n",
      "Control: Ja      0.5703      0.165      3.452      0.001       0.247       0.894\n",
      "0/1             -0.3094      0.112     -2.771      0.006      -0.528      -0.091\n",
      "1/2              0.1944      0.065      2.975      0.003       0.066       0.322\n",
      "================================================================================\n",
      "root - INFO - Log-likelihoood ratio: 22.45\n",
      "root - INFO - LLR p-value: 0.00\n"
     ]
    }
   ],
   "source": [
    "# Control for number of checkups\n",
    "kendall_tau(df.loc[df.Control=='Nee'], 'Effectiviteit', 'Kliniek')\n",
    "kendall_tau(df.loc[df.Control=='Ja'], 'Effectiviteit', 'Kliniek')\n",
    "mod_log, res_log = logit_ordinal_regression(df, 'Effectiviteit', ['Kliniek', 'Control'],\n",
    "                         drop_categories = {'Kliniek': 'MCD', 'Control': 'Nee'}\n",
    "                        )"
   ]
  },
  {
   "cell_type": "code",
   "execution_count": 39,
   "metadata": {},
   "outputs": [
    {
     "name": "stderr",
     "output_type": "stream",
     "text": [
      "root - INFO - Patients analyzed: 511\n",
      "root - INFO - KendalltauResult(correlation=-0.14030849530011202, pvalue=0.0007859330965869701)\n",
      "root - INFO - Patients analyzed: 153\n",
      "root - INFO - KendalltauResult(correlation=-0.04737806638029328, pvalue=0.5384118893401706)\n"
     ]
    },
    {
     "data": {
      "text/plain": [
       "Nee    150\n",
       "Ja       3\n",
       "Name: Control, dtype: int64"
      ]
     },
     "execution_count": 39,
     "metadata": {},
     "output_type": "execute_result"
    }
   ],
   "source": [
    "kendall_tau(df.loc[df.Kliniek=='MCD'], 'Effectiviteit', 'Control')\n",
    "kendall_tau(df.loc[df.Kliniek=='UKG'], 'Effectiviteit', 'Control')\n",
    "df.loc[df.Kliniek=='UKG', 'Control'].value_counts()"
   ]
  },
  {
   "cell_type": "markdown",
   "metadata": {},
   "source": [
    "### Concurrent mediation\n",
    "\n",
    "Dictionary:\n",
    "* 0 = no medication (not be confirmed)\n",
    "* 1 = oclacitinib \n",
    "* 2 = ciclosporin\n",
    "* 3 = glucocorticoid\n",
    "* 4 = other medication\n",
    "\n",
    "The main analysis is for medication categories 1, 2, 3 as 0 has not been confirmed."
   ]
  },
  {
   "cell_type": "markdown",
   "metadata": {},
   "source": [
    "2 response categories"
   ]
  },
  {
   "cell_type": "code",
   "execution_count": 40,
   "metadata": {},
   "outputs": [
    {
     "name": "stderr",
     "output_type": "stream",
     "text": [
      "root - INFO - Patients analyzed: 367\n",
      "root - INFO - Total samples: 367\n",
      "root - INFO - --- 1.0 samples: 241 ---\n",
      "root - INFO - Confidence interval for efficiency = 0\n",
      "root - INFO - 38.2% (n = 92, 95% C.I.: 31.5% - 45.4%)\n",
      "\n",
      "root - INFO - Confidence interval for efficiency = 1\n",
      "root - INFO - 61.8% (n = 149, 95% C.I.: 54.6% - 68.5%)\n",
      "\n",
      "root - INFO - --- 2.0 samples: 61 ---\n",
      "root - INFO - Confidence interval for efficiency = 0\n",
      "root - INFO - 47.5% (n = 29, 95% C.I.: 34.0% - 61.5%)\n",
      "\n",
      "root - INFO - Confidence interval for efficiency = 1\n",
      "root - INFO - 52.5% (n = 32, 95% C.I.: 38.5% - 66.0%)\n",
      "\n",
      "root - INFO - --- 3.0 samples: 65 ---\n",
      "root - INFO - Confidence interval for efficiency = 0\n",
      "root - INFO - 61.5% (n = 40, 95% C.I.: 47.7% - 73.8%)\n",
      "\n",
      "root - INFO - Confidence interval for efficiency = 1\n",
      "root - INFO - 38.5% (n = 25, 95% C.I.: 26.2% - 52.3%)\n",
      "\n"
     ]
    }
   ],
   "source": [
    "get_goodman_interval(df, col='Effectiviteit 03', predictor='Medicatiegroep')"
   ]
  },
  {
   "cell_type": "code",
   "execution_count": 41,
   "metadata": {},
   "outputs": [
    {
     "name": "stderr",
     "output_type": "stream",
     "text": [
      "root - INFO - \n",
      "Chi-squared test for Medicatiegroep and Effectiviteit 03\n",
      "root - INFO - Patients analyzed: 306\n",
      "root - INFO - \n",
      "p-value: 0.00122\n",
      "root - INFO - dof: 1\n",
      "root - INFO - chi2: 10.460\n",
      "root - INFO - \n",
      "Chi-squared test for Medicatiegroep and Effectiviteit 03\n",
      "root - INFO - Patients analyzed: 302\n",
      "root - INFO - \n",
      "p-value: 0.23508\n",
      "root - INFO - dof: 1\n",
      "root - INFO - chi2: 1.410\n",
      "root - INFO - \n",
      "Chi-squared test for Medicatiegroep and Effectiviteit 03\n",
      "root - INFO - Patients analyzed: 126\n",
      "root - INFO - \n",
      "p-value: 0.16196\n",
      "root - INFO - dof: 1\n",
      "root - INFO - chi2: 1.956\n",
      "root - INFO - \n",
      "Chi-squared test for Medicatiegroep and Effectiviteit\n",
      "root - INFO - Patients analyzed: 367\n",
      "root - INFO - \n",
      "p-value: 0.00157\n",
      "root - INFO - dof: 2\n",
      "root - INFO - chi2: 12.910\n"
     ]
    }
   ],
   "source": [
    "# oclacitinib vs glucocorticoid\n",
    "mask = df['Medicatiegroep']!=2\n",
    "chi2_test(df.loc[mask], 'Effectiviteit 03', 'Medicatiegroep')\n",
    "\n",
    "# oclacitinib vs ciclosporin\n",
    "mask = df['Medicatiegroep']!=3\n",
    "chi2_test(df.loc[mask], 'Effectiviteit 03', 'Medicatiegroep')\n",
    "\n",
    "# ciclosporin vs glucocorticoid\n",
    "mask = df['Medicatiegroep']!=1\n",
    "chi2_test(df.loc[mask], 'Effectiviteit 03', 'Medicatiegroep')\n",
    "\n",
    "# oclacitinib/ciclosporin vs. glucocorticoid\n",
    "chi2_test(df.replace({'Medicatiegroep': {1:0, 2:0}}), 'Effectiviteit', 'Medicatiegroep')"
   ]
  },
  {
   "cell_type": "markdown",
   "metadata": {},
   "source": [
    "#### 3 response categories"
   ]
  },
  {
   "cell_type": "code",
   "execution_count": 42,
   "metadata": {},
   "outputs": [
    {
     "name": "stderr",
     "output_type": "stream",
     "text": [
      "root - INFO - Patients analyzed: 367\n",
      "root - INFO - Total samples: 367\n",
      "root - INFO - --- 1.0 samples: 241 ---\n",
      "root - INFO - Confidence interval for efficiency = 0\n",
      "root - INFO - 38.2% (n = 92, 95% C.I.: 31.0% - 45.9%)\n",
      "\n",
      "root - INFO - Confidence interval for efficiency = 1\n",
      "root - INFO - 31.1% (n = 75, 95% C.I.: 24.5% - 38.6%)\n",
      "\n",
      "root - INFO - Confidence interval for efficiency = 2\n",
      "root - INFO - 30.7% (n = 74, 95% C.I.: 24.1% - 38.2%)\n",
      "\n",
      "root - INFO - --- 2.0 samples: 61 ---\n",
      "root - INFO - Confidence interval for efficiency = 0\n",
      "root - INFO - 47.5% (n = 29, 95% C.I.: 33.1% - 62.4%)\n",
      "\n",
      "root - INFO - Confidence interval for efficiency = 1\n",
      "root - INFO - 27.9% (n = 17, 95% C.I.: 16.5% - 43.0%)\n",
      "\n",
      "root - INFO - Confidence interval for efficiency = 2\n",
      "root - INFO - 24.6% (n = 15, 95% C.I.: 14.0% - 39.6%)\n",
      "\n",
      "root - INFO - --- 3.0 samples: 65 ---\n",
      "root - INFO - Confidence interval for efficiency = 0\n",
      "root - INFO - 61.5% (n = 40, 95% C.I.: 46.7% - 74.5%)\n",
      "\n",
      "root - INFO - Confidence interval for efficiency = 1\n",
      "root - INFO - 27.7% (n = 18, 95% C.I.: 16.6% - 42.4%)\n",
      "\n",
      "root - INFO - Confidence interval for efficiency = 2\n",
      "root - INFO - 10.8% (n = 7, 95% C.I.: 4.6% - 23.3%)\n",
      "\n"
     ]
    }
   ],
   "source": [
    "get_goodman_interval(df, col='Effectiviteit', predictor='Medicatiegroep')\n",
    "# get_posterior_distributions(df, col='Effectiviteit', predictor='Medicatiegroep')"
   ]
  },
  {
   "cell_type": "code",
   "execution_count": 43,
   "metadata": {},
   "outputs": [
    {
     "name": "stderr",
     "output_type": "stream",
     "text": [
      "root - INFO - \n",
      "Chi-squared test for Medicatiegroep and Effectiviteit\n",
      "root - INFO - Patients analyzed: 367\n",
      "root - INFO - \n",
      "p-value: 0.00525\n",
      "root - INFO - dof: 4\n",
      "root - INFO - chi2: 14.751\n",
      "root - INFO - \n",
      "Ordinal regression using ['Medicatiegroep']\n",
      "root - INFO - Patients analyzed: 367\n",
      "root - INFO -                              OrderedModel Results                             \n",
      "==============================================================================\n",
      "Dep. Variable:          Effectiviteit   Log-Likelihood:                -386.51\n",
      "Model:                   OrderedModel   AIC:                             781.0\n",
      "Method:            Maximum Likelihood   BIC:                             796.6\n",
      "Date:                Fri, 22 Oct 2021                                         \n",
      "Time:                        18:33:29                                         \n",
      "No. Observations:                 367                                         \n",
      "Df Residuals:                     363                                         \n",
      "Df Model:                           4                                         \n",
      "=======================================================================================\n",
      "                          coef    std err          z      P>|z|      [0.025      0.975]\n",
      "---------------------------------------------------------------------------------------\n",
      "Medicatiegroep: 2.0    -0.3607      0.269     -1.339      0.180      -0.889       0.167\n",
      "Medicatiegroep: 3.0    -1.0174      0.275     -3.699      0.000      -1.556      -0.478\n",
      "0/1                    -0.4947      0.129     -3.833      0.000      -0.748      -0.242\n",
      "1/2                     0.2809      0.085      3.286      0.001       0.113       0.448\n",
      "=======================================================================================\n",
      "root - INFO - Log-likelihoood ratio: 14.84\n",
      "root - INFO - LLR p-value: 0.00\n"
     ]
    }
   ],
   "source": [
    "chi2_test(df, 'Effectiviteit', 'Medicatiegroep')\n",
    "_ = logit_ordinal_regression(df, 'Effectiviteit', ['Medicatiegroep'], drop_categories={'Medicatiegroep': 1})"
   ]
  },
  {
   "cell_type": "markdown",
   "metadata": {},
   "source": [
    "Additional multiple pairwise comparisons. Results require a Bonferroni correction."
   ]
  },
  {
   "cell_type": "code",
   "execution_count": 44,
   "metadata": {},
   "outputs": [
    {
     "name": "stderr",
     "output_type": "stream",
     "text": [
      "root - INFO - oclacitinib vs glucocorticoid\n",
      "root - INFO - Patients analyzed: 306\n",
      "root - INFO - KendalltauResult(correlation=-0.2043589740554727, pvalue=0.000159513188578315)\n",
      "root - INFO - \n",
      "oclacitinib vs ciclosporin\n",
      "root - INFO - Patients analyzed: 302\n",
      "root - INFO - KendalltauResult(correlation=-0.07179589790928557, pvalue=0.18695928072135215)\n",
      "root - INFO - \n",
      "ciclosporin vs glucocorticoid\n",
      "root - INFO - Patients analyzed: 126\n",
      "root - INFO - KendalltauResult(correlation=-0.16349166467690737, pvalue=0.055391444294640185)\n",
      "root - INFO - \n",
      "oclacitinib/ciclosporin vs. glucocorticoid\n",
      "root - INFO - Patients analyzed: 367\n",
      "root - INFO - KendalltauResult(correlation=-0.17656818524357323, pvalue=0.00035360227498327693)\n"
     ]
    }
   ],
   "source": [
    "logging.info(\"oclacitinib vs glucocorticoid\")\n",
    "mask = df['Medicatiegroep']!=2\n",
    "kendall_tau(df.loc[mask], 'Effectiviteit', 'Medicatiegroep')\n",
    "\n",
    "logging.info(\"\\noclacitinib vs ciclosporin\")\n",
    "mask = df['Medicatiegroep']!=3\n",
    "kendall_tau(df.loc[mask], 'Effectiviteit', 'Medicatiegroep')\n",
    "\n",
    "logging.info(\"\\nciclosporin vs glucocorticoid\")\n",
    "mask = df['Medicatiegroep']!=1\n",
    "kendall_tau(df.loc[mask], 'Effectiviteit', 'Medicatiegroep')\n",
    "\n",
    "logging.info(\"\\noclacitinib/ciclosporin vs. glucocorticoid\")\n",
    "kendall_tau(df.replace({'Medicatiegroep': {1:0, 2:0}}), 'Effectiviteit', 'Medicatiegroep')"
   ]
  },
  {
   "cell_type": "markdown",
   "metadata": {},
   "source": [
    "##### Compare when controling for number of checkpus"
   ]
  },
  {
   "cell_type": "code",
   "execution_count": 45,
   "metadata": {},
   "outputs": [
    {
     "name": "stderr",
     "output_type": "stream",
     "text": [
      "root - INFO - 1.0    115\n",
      "3.0     60\n",
      "2.0     49\n",
      "Name: Medicatiegroep, dtype: int64\n"
     ]
    }
   ],
   "source": [
    "mask = (df['Control'] == 'Nee')\n",
    "logger.info(df.loc[mask, 'Medicatiegroep'].value_counts())"
   ]
  },
  {
   "cell_type": "code",
   "execution_count": 46,
   "metadata": {},
   "outputs": [
    {
     "name": "stderr",
     "output_type": "stream",
     "text": [
      "root - INFO - Patients analyzed: 224\n",
      "root - INFO - Total samples: 224\n",
      "root - INFO - --- 1.0 samples: 115 ---\n",
      "root - INFO - Confidence interval for efficiency = 0\n",
      "root - INFO - 48.7% (n = 56, 95% C.I.: 37.9% - 59.6%)\n",
      "\n",
      "root - INFO - Confidence interval for efficiency = 2\n",
      "root - INFO - 30.4% (n = 35, 95% C.I.: 21.3% - 41.4%)\n",
      "\n",
      "root - INFO - Confidence interval for efficiency = 3\n",
      "root - INFO - 20.9% (n = 24, 95% C.I.: 13.3% - 31.2%)\n",
      "\n",
      "root - INFO - --- 2.0 samples: 49 ---\n",
      "root - INFO - Confidence interval for efficiency = 0\n",
      "root - INFO - 49.0% (n = 24, 95% C.I.: 32.9% - 65.3%)\n",
      "\n",
      "root - INFO - Confidence interval for efficiency = 2\n",
      "root - INFO - 30.6% (n = 15, 95% C.I.: 17.6% - 47.7%)\n",
      "\n",
      "root - INFO - Confidence interval for efficiency = 3\n",
      "root - INFO - 20.4% (n = 10, 95% C.I.: 10.1% - 36.9%)\n",
      "\n",
      "root - INFO - --- 3.0 samples: 60 ---\n",
      "root - INFO - Confidence interval for efficiency = 0\n",
      "root - INFO - 61.7% (n = 37, 95% C.I.: 46.3% - 75.0%)\n",
      "\n",
      "root - INFO - Confidence interval for efficiency = 2\n",
      "root - INFO - 30.0% (n = 18, 95% C.I.: 18.1% - 45.4%)\n",
      "\n",
      "root - INFO - Confidence interval for efficiency = 3\n",
      "root - INFO - 8.3% (n = 5, 95% C.I.: 3.0% - 20.9%)\n",
      "\n",
      "root - INFO - Patients analyzed: 224\n",
      "root - INFO - KendalltauResult(correlation=-0.13340833101065433, pvalue=0.03662637817549477)\n"
     ]
    }
   ],
   "source": [
    "get_goodman_interval(df.loc[mask], col='Effectiviteit', predictor='Medicatiegroep')\n",
    "kendall_tau(df.loc[mask].replace({'Medicatiegroep': {1:1, 2:1}}), 'Effectiviteit', 'Medicatiegroep')"
   ]
  },
  {
   "cell_type": "code",
   "execution_count": 47,
   "metadata": {},
   "outputs": [
    {
     "name": "stderr",
     "output_type": "stream",
     "text": [
      "root - INFO - 1.0    126\n",
      "2.0     12\n",
      "3.0      5\n",
      "Name: Medicatiegroep, dtype: int64\n"
     ]
    }
   ],
   "source": [
    "mask = (df['Control'] == 'Ja')\n",
    "logger.info(df.loc[mask, 'Medicatiegroep'].value_counts())"
   ]
  },
  {
   "cell_type": "code",
   "execution_count": 48,
   "metadata": {},
   "outputs": [
    {
     "name": "stderr",
     "output_type": "stream",
     "text": [
      "root - INFO - Patients analyzed: 143\n",
      "root - INFO - KendalltauResult(correlation=-0.05792067057140965, pvalue=0.46462207440040526)\n",
      "root - INFO - Patients analyzed: 143\n",
      "root - INFO - Total samples: 143\n",
      "root - INFO - --- 1.0 samples: 126 ---\n",
      "root - INFO - Confidence interval for efficiency = 1\n",
      "root - INFO - 28.6% (n = 36, 95% C.I.: 20.0% - 39.0%)\n",
      "\n",
      "root - INFO - Confidence interval for efficiency = 51\n",
      "root - INFO - 31.7% (n = 40, 95% C.I.: 22.8% - 42.3%)\n",
      "\n",
      "root - INFO - Confidence interval for efficiency = 264\n",
      "root - INFO - 39.7% (n = 50, 95% C.I.: 29.9% - 50.3%)\n",
      "\n",
      "root - INFO - --- 2.0 samples: 12 ---\n",
      "root - INFO - Confidence interval for efficiency = 1\n",
      "root - INFO - 41.7% (n = 5, 95% C.I.: 16.2% - 72.5%)\n",
      "\n",
      "root - INFO - Confidence interval for efficiency = 51\n",
      "root - INFO - 16.7% (n = 2, 95% C.I.: 3.7% - 51.2%)\n",
      "\n",
      "root - INFO - Confidence interval for efficiency = 264\n",
      "root - INFO - 41.7% (n = 5, 95% C.I.: 16.2% - 72.5%)\n",
      "\n",
      "root - INFO - --- 3.0 samples: 5 ---\n",
      "root - INFO - Confidence interval for efficiency = 1\n",
      "root - INFO - 60.0% (n = 3, 95% C.I.: 18.5% - 90.9%)\n",
      "\n",
      "root - INFO - Confidence interval for efficiency = 51\n",
      "root - INFO - 0.0% (n = 0, 95% C.I.: 0.0% - 53.4%)\n",
      "\n",
      "root - INFO - Confidence interval for efficiency = 264\n",
      "root - INFO - 40.0% (n = 2, 95% C.I.: 9.1% - 81.5%)\n",
      "\n"
     ]
    }
   ],
   "source": [
    "kendall_tau(df.loc[mask].replace({'Medicatiegroep': {1:1, 2:1}}), 'Effectiviteit', 'Medicatiegroep')\n",
    "get_goodman_interval(df.loc[mask], col='Effectiviteit', predictor='Medicatiegroep')"
   ]
  },
  {
   "cell_type": "markdown",
   "metadata": {},
   "source": [
    "##### Including no treatment\n",
    "It could not be confirmed that these patients (`Medicatiegroep_ext = 4`) received no treatment, as such this analysis is purely illustrative."
   ]
  },
  {
   "cell_type": "code",
   "execution_count": 49,
   "metadata": {},
   "outputs": [
    {
     "name": "stderr",
     "output_type": "stream",
     "text": [
      "root - INFO - Patients analyzed: 664\n",
      "root - INFO - Total samples: 664\n",
      "root - INFO - --- 0.0 samples: 166 ---\n",
      "root - INFO - Confidence interval for efficiency = 0\n",
      "root - INFO - 24.7% (n = 41, 95% C.I.: 17.6% - 33.5%)\n",
      "\n",
      "root - INFO - Confidence interval for efficiency = 1\n",
      "root - INFO - 25.3% (n = 42, 95% C.I.: 18.1% - 34.1%)\n",
      "\n",
      "root - INFO - Confidence interval for efficiency = 2\n",
      "root - INFO - 50.0% (n = 83, 95% C.I.: 40.9% - 59.1%)\n",
      "\n",
      "root - INFO - --- 1.0 samples: 241 ---\n",
      "root - INFO - Confidence interval for efficiency = 0\n",
      "root - INFO - 38.2% (n = 92, 95% C.I.: 31.0% - 45.9%)\n",
      "\n",
      "root - INFO - Confidence interval for efficiency = 1\n",
      "root - INFO - 31.1% (n = 75, 95% C.I.: 24.5% - 38.6%)\n",
      "\n",
      "root - INFO - Confidence interval for efficiency = 2\n",
      "root - INFO - 30.7% (n = 74, 95% C.I.: 24.1% - 38.2%)\n",
      "\n",
      "root - INFO - --- 2.0 samples: 61 ---\n",
      "root - INFO - Confidence interval for efficiency = 0\n",
      "root - INFO - 47.5% (n = 29, 95% C.I.: 33.1% - 62.4%)\n",
      "\n",
      "root - INFO - Confidence interval for efficiency = 1\n",
      "root - INFO - 27.9% (n = 17, 95% C.I.: 16.5% - 43.0%)\n",
      "\n",
      "root - INFO - Confidence interval for efficiency = 2\n",
      "root - INFO - 24.6% (n = 15, 95% C.I.: 14.0% - 39.6%)\n",
      "\n",
      "root - INFO - --- 3.0 samples: 65 ---\n",
      "root - INFO - Confidence interval for efficiency = 0\n",
      "root - INFO - 61.5% (n = 40, 95% C.I.: 46.7% - 74.5%)\n",
      "\n",
      "root - INFO - Confidence interval for efficiency = 1\n",
      "root - INFO - 27.7% (n = 18, 95% C.I.: 16.6% - 42.4%)\n",
      "\n",
      "root - INFO - Confidence interval for efficiency = 2\n",
      "root - INFO - 10.8% (n = 7, 95% C.I.: 4.6% - 23.3%)\n",
      "\n",
      "root - INFO - --- 4.0 samples: 131 ---\n",
      "root - INFO - Confidence interval for efficiency = 0\n",
      "root - INFO - 48.9% (n = 64, 95% C.I.: 38.7% - 59.1%)\n",
      "\n",
      "root - INFO - Confidence interval for efficiency = 1\n",
      "root - INFO - 28.2% (n = 37, 95% C.I.: 19.9% - 38.4%)\n",
      "\n",
      "root - INFO - Confidence interval for efficiency = 2\n",
      "root - INFO - 22.9% (n = 30, 95% C.I.: 15.4% - 32.7%)\n",
      "\n"
     ]
    }
   ],
   "source": [
    "get_goodman_interval(df, col='Effectiviteit', predictor='Medicatiegroep_ext')"
   ]
  },
  {
   "cell_type": "code",
   "execution_count": 50,
   "metadata": {},
   "outputs": [
    {
     "name": "stderr",
     "output_type": "stream",
     "text": [
      "root - INFO - Patients analyzed: 407\n",
      "root - INFO - KendalltauResult(correlation=-0.18169001179250585, pvalue=0.00010465181354584747)\n",
      "root - INFO - Patients analyzed: 372\n",
      "root - INFO - KendalltauResult(correlation=-0.1020195071788003, pvalue=0.03750037628703238)\n",
      "root - INFO - Patients analyzed: 192\n",
      "root - INFO - KendalltauResult(correlation=-0.015555005770711984, pvalue=0.8206202206705907)\n"
     ]
    }
   ],
   "source": [
    "# oclacitinib vs. non\n",
    "mask = df['Medicatiegroep_ext'].isin([0,1])\n",
    "kendall_tau(df.loc[mask], 'Effectiviteit', 'Medicatiegroep_ext')\n",
    "# oclacitinib vs. other\n",
    "mask = df['Medicatiegroep_ext'].isin([1,4])\n",
    "kendall_tau(df.loc[mask], 'Effectiviteit', 'Medicatiegroep_ext')\n",
    "# ciclosporin vs. other\n",
    "mask = df['Medicatiegroep_ext'].isin([2,4])\n",
    "kendall_tau(df.loc[mask], 'Effectiviteit', 'Medicatiegroep_ext')"
   ]
  },
  {
   "cell_type": "code",
   "execution_count": 51,
   "metadata": {},
   "outputs": [
    {
     "name": "stderr",
     "output_type": "stream",
     "text": [
      "root - INFO - \n",
      "Ordinal regression using ['Medicatiegroep_ext']\n",
      "root - INFO - Patients analyzed: 664\n",
      "root - INFO -                              OrderedModel Results                             \n",
      "==============================================================================\n",
      "Dep. Variable:          Effectiviteit   Log-Likelihood:                -697.99\n",
      "Model:                   OrderedModel   AIC:                             1408.\n",
      "Method:            Maximum Likelihood   BIC:                             1435.\n",
      "Date:                Fri, 22 Oct 2021                                         \n",
      "Time:                        18:33:30                                         \n",
      "No. Observations:                 664                                         \n",
      "Df Residuals:                     658                                         \n",
      "Df Model:                           6                                         \n",
      "===========================================================================================\n",
      "                              coef    std err          z      P>|z|      [0.025      0.975]\n",
      "-------------------------------------------------------------------------------------------\n",
      "Medicatiegroep_ext: 2.0    -0.3017      0.292     -1.034      0.301      -0.874       0.270\n",
      "Medicatiegroep_ext: 3.0    -0.9429      0.299     -3.151      0.002      -1.529      -0.356\n",
      "Medicatiegroep_ext: 0.0     0.8678      0.220      3.939      0.000       0.436       1.300\n",
      "Medicatiegroep_ext: 1.0     0.1389      0.201      0.692      0.489      -0.254       0.532\n",
      "0/1                        -0.2870      0.165     -1.744      0.081      -0.609       0.035\n",
      "1/2                         0.2259      0.066      3.447      0.001       0.097       0.354\n",
      "===========================================================================================\n",
      "root - INFO - Log-likelihoood ratio: 48.85\n",
      "root - INFO - LLR p-value: 0.00\n"
     ]
    }
   ],
   "source": [
    "_ = logit_ordinal_regression(df, 'Effectiviteit', ['Medicatiegroep_ext'], \n",
    "                             drop_categories={'Medicatiegroep_ext': 4})"
   ]
  },
  {
   "cell_type": "code",
   "execution_count": 52,
   "metadata": {},
   "outputs": [
    {
     "name": "stderr",
     "output_type": "stream",
     "text": [
      "root - INFO - Patients analyzed: 446\n",
      "root - INFO - KendalltauResult(correlation=-0.19141910296291603, pvalue=2.1857460297217742e-06)\n",
      "root - INFO - Patients analyzed: 218\n",
      "root - INFO - KendalltauResult(correlation=-0.2618189168926282, pvalue=1.3698855747839728e-05)\n"
     ]
    }
   ],
   "source": [
    "# Analyse with no treatment patients\n",
    "mask = (df['Control'] == 'Nee')\n",
    "kendall_tau(df.loc[mask], 'Effectiviteit', 'Medicatiegroep_ext')\n",
    "\n",
    "mask = (df['Control'] == 'Ja')\n",
    "kendall_tau(df.loc[mask], 'Effectiviteit', 'Medicatiegroep_ext')"
   ]
  },
  {
   "cell_type": "markdown",
   "metadata": {},
   "source": [
    "### Multiple parameters\n",
    "A model with medication and treatment options is preferred based on the BIC / AIC."
   ]
  },
  {
   "cell_type": "code",
   "execution_count": 53,
   "metadata": {
    "lines_to_next_cell": 2
   },
   "outputs": [
    {
     "name": "stderr",
     "output_type": "stream",
     "text": [
      "root - INFO - \n",
      "Ordinal regression using ['Geslacht', 'age_cat', 'Control', 'Medicatiegroep']\n",
      "root - INFO - Patients analyzed: 356\n",
      "root - INFO -                              OrderedModel Results                             \n",
      "==============================================================================\n",
      "Dep. Variable:          Effectiviteit   Log-Likelihood:                -368.51\n",
      "Model:                   OrderedModel   AIC:                             757.0\n",
      "Method:            Maximum Likelihood   BIC:                             795.8\n",
      "Date:                Fri, 22 Oct 2021                                         \n",
      "Time:                        18:33:31                                         \n",
      "No. Observations:                 356                                         \n",
      "Df Residuals:                     346                                         \n",
      "Df Model:                          10                                         \n",
      "====================================================================================================\n",
      "                                       coef    std err          z      P>|z|      [0.025      0.975]\n",
      "----------------------------------------------------------------------------------------------------\n",
      "Geslacht: mannelijk gecastreerd      0.1442      0.347      0.416      0.677      -0.535       0.824\n",
      "Geslacht: man                        0.1402      0.345      0.407      0.684      -0.535       0.816\n",
      "Geslacht: vrouwelijk gecastreerd    -0.1364      0.341     -0.400      0.689      -0.805       0.532\n",
      "age_cat: 2.0                       5.38e-05      0.426      0.000      1.000      -0.835       0.835\n",
      "age_cat: 1.0                         0.0839      0.214      0.393      0.695      -0.335       0.503\n",
      "Control: Ja                          0.6136      0.225      2.726      0.006       0.172       1.055\n",
      "Medicatiegroep: 2.0                 -0.0800      0.287     -0.279      0.781      -0.643       0.483\n",
      "Medicatiegroep: 3.0                 -0.9162      0.307     -2.986      0.003      -1.518      -0.315\n",
      "0/1                                 -0.1583      0.322     -0.491      0.623      -0.790       0.473\n",
      "1/2                                  0.3241      0.087      3.746      0.000       0.155       0.494\n",
      "====================================================================================================\n",
      "root - INFO - Log-likelihoood ratio: 29.07\n",
      "root - INFO - LLR p-value: 0.00\n"
     ]
    }
   ],
   "source": [
    "_ = logit_ordinal_regression(df.dropna(subset=['age_cat']), \n",
    "                             'Effectiviteit', ['Geslacht', 'age_cat', 'Control', 'Medicatiegroep'], \n",
    "                             drop_categories={'Control': 'Nee', \n",
    "                                              'Medicatiegroep': 1,\n",
    "                                              'age_cat': 0,\n",
    "                                              'Geslacht': 'vrouw'})"
   ]
  },
  {
   "cell_type": "code",
   "execution_count": 54,
   "metadata": {},
   "outputs": [
    {
     "name": "stderr",
     "output_type": "stream",
     "text": [
      "root - INFO - \n",
      "Ordinal regression using ['Control', 'Medicatiegroep']\n",
      "root - INFO - Patients analyzed: 356\n",
      "root - INFO -                              OrderedModel Results                             \n",
      "==============================================================================\n",
      "Dep. Variable:          Effectiviteit   Log-Likelihood:                -369.55\n",
      "Model:                   OrderedModel   AIC:                             749.1\n",
      "Method:            Maximum Likelihood   BIC:                             768.5\n",
      "Date:                Fri, 22 Oct 2021                                         \n",
      "Time:                        18:33:31                                         \n",
      "No. Observations:                 356                                         \n",
      "Df Residuals:                     351                                         \n",
      "Df Model:                           5                                         \n",
      "=======================================================================================\n",
      "                          coef    std err          z      P>|z|      [0.025      0.975]\n",
      "---------------------------------------------------------------------------------------\n",
      "Control: Ja             0.6428      0.223      2.880      0.004       0.205       1.080\n",
      "Medicatiegroep: 2.0    -0.2846      0.287     -0.990      0.322      -0.848       0.279\n",
      "Medicatiegroep: 3.0    -0.8365      0.300     -2.788      0.005      -1.425      -0.248\n",
      "0/1                    -0.2361      0.175     -1.352      0.176      -0.578       0.106\n",
      "1/2                     0.3195      0.087      3.692      0.000       0.150       0.489\n",
      "=======================================================================================\n",
      "root - INFO - Log-likelihoood ratio: 26.99\n",
      "root - INFO - LLR p-value: 0.00\n"
     ]
    }
   ],
   "source": [
    "# Analyse the same patients as above but without age and gender\n",
    "mod_log, res_log = logit_ordinal_regression(df.dropna(subset=['age_cat']), \n",
    "                                            'Effectiviteit', ['Control', 'Medicatiegroep'], \n",
    "                             drop_categories={'Control': 'Nee', \n",
    "                                              'Medicatiegroep': 1})"
   ]
  },
  {
   "cell_type": "markdown",
   "metadata": {},
   "source": [
    "We see both AIC and BIC improve when we drop age and gender. Next compare all patients with both a medication group and re-checks."
   ]
  },
  {
   "cell_type": "code",
   "execution_count": 55,
   "metadata": {},
   "outputs": [],
   "source": [
    "mask = ~df['Medicatiegroep'].isna()"
   ]
  },
  {
   "cell_type": "code",
   "execution_count": 56,
   "metadata": {},
   "outputs": [
    {
     "name": "stderr",
     "output_type": "stream",
     "text": [
      "root - INFO - \n",
      "Ordinal regression using ['Control', 'Medicatiegroep']\n",
      "root - INFO - Patients analyzed: 367\n",
      "root - INFO -                              OrderedModel Results                             \n",
      "==============================================================================\n",
      "Dep. Variable:          Effectiviteit   Log-Likelihood:                -379.04\n",
      "Model:                   OrderedModel   AIC:                             768.1\n",
      "Method:            Maximum Likelihood   BIC:                             787.6\n",
      "Date:                Fri, 22 Oct 2021                                         \n",
      "Time:                        18:33:31                                         \n",
      "No. Observations:                 367                                         \n",
      "Df Residuals:                     362                                         \n",
      "Df Model:                           5                                         \n",
      "=======================================================================================\n",
      "                          coef    std err          z      P>|z|      [0.025      0.975]\n",
      "---------------------------------------------------------------------------------------\n",
      "Control: Ja             0.8267      0.221      3.743      0.000       0.394       1.260\n",
      "Medicatiegroep: 2.0    -0.0948      0.282     -0.336      0.737      -0.647       0.457\n",
      "Medicatiegroep: 3.0    -0.6736      0.294     -2.291      0.022      -1.250      -0.097\n",
      "0/1                    -0.0876      0.171     -0.513      0.608      -0.422       0.247\n",
      "1/2                     0.3159      0.086      3.677      0.000       0.148       0.484\n",
      "=======================================================================================\n",
      "root - INFO - Log-likelihoood ratio: 29.79\n",
      "root - INFO - LLR p-value: 0.00\n"
     ]
    }
   ],
   "source": [
    "# First both parameters.\n",
    "mod_log, res_log = logit_ordinal_regression(df.loc[mask], \n",
    "                                            'Effectiviteit', ['Control', 'Medicatiegroep'], \n",
    "                             drop_categories={'Control': 'Nee', \n",
    "                                              'Medicatiegroep': 1})"
   ]
  },
  {
   "cell_type": "code",
   "execution_count": 57,
   "metadata": {},
   "outputs": [
    {
     "name": "stderr",
     "output_type": "stream",
     "text": [
      "root - INFO - \n",
      "Ordinal regression using ['Control']\n",
      "root - INFO - Patients analyzed: 367\n",
      "root - INFO -                              OrderedModel Results                             \n",
      "==============================================================================\n",
      "Dep. Variable:          Effectiviteit   Log-Likelihood:                -381.52\n",
      "Model:                   OrderedModel   AIC:                             769.0\n",
      "Method:            Maximum Likelihood   BIC:                             780.8\n",
      "Date:                Fri, 22 Oct 2021                                         \n",
      "Time:                        18:33:31                                         \n",
      "No. Observations:                 367                                         \n",
      "Df Residuals:                     364                                         \n",
      "Df Model:                           3                                         \n",
      "===============================================================================\n",
      "                  coef    std err          z      P>|z|      [0.025      0.975]\n",
      "-------------------------------------------------------------------------------\n",
      "Control: Ja     1.0054      0.204      4.928      0.000       0.606       1.405\n",
      "0/1             0.1169      0.130      0.898      0.369      -0.138       0.372\n",
      "1/2             0.3065      0.086      3.565      0.000       0.138       0.475\n",
      "===============================================================================\n",
      "root - INFO - Log-likelihoood ratio: 24.82\n",
      "root - INFO - LLR p-value: 0.00\n"
     ]
    }
   ],
   "source": [
    "# And now with only number of re-checks\n",
    "mod_log, res_log = logit_ordinal_regression(df.loc[mask], \n",
    "                                            'Effectiviteit', ['Control',], \n",
    "                             drop_categories={'Control': 'Nee', \n",
    "                                              'Medicatiegroep': 1})"
   ]
  },
  {
   "cell_type": "markdown",
   "metadata": {},
   "source": [
    "Grouping oclacinitib and ciclosporin together"
   ]
  },
  {
   "cell_type": "code",
   "execution_count": 58,
   "metadata": {},
   "outputs": [
    {
     "name": "stderr",
     "output_type": "stream",
     "text": [
      "root - INFO - \n",
      "Ordinal regression using ['Control', 'Medicatiegroep']\n",
      "root - INFO - Patients analyzed: 367\n",
      "root - INFO -                              OrderedModel Results                             \n",
      "==============================================================================\n",
      "Dep. Variable:          Effectiviteit   Log-Likelihood:                -379.09\n",
      "Model:                   OrderedModel   AIC:                             766.2\n",
      "Method:            Maximum Likelihood   BIC:                             781.8\n",
      "Date:                Fri, 22 Oct 2021                                         \n",
      "Time:                        18:33:31                                         \n",
      "No. Observations:                 367                                         \n",
      "Df Residuals:                     363                                         \n",
      "Df Model:                           4                                         \n",
      "=======================================================================================\n",
      "                          coef    std err          z      P>|z|      [0.025      0.975]\n",
      "---------------------------------------------------------------------------------------\n",
      "Control: Ja             0.8294      0.213      3.896      0.000       0.412       1.247\n",
      "Medicatiegroep: 3.0    -0.6781      0.284     -2.387      0.017      -1.235      -0.121\n",
      "0/1                    -0.0722      0.149     -0.483      0.629      -0.365       0.221\n",
      "1/2                     0.3156      0.086      3.674      0.000       0.147       0.484\n",
      "=======================================================================================\n",
      "root - INFO - Log-likelihoood ratio: 29.68\n",
      "root - INFO - LLR p-value: 0.00\n"
     ]
    }
   ],
   "source": [
    "# Both medication and re-checks, oclacinitib and ciclosporin together\n",
    "mod_log, res_log = logit_ordinal_regression(df.loc[mask]\n",
    "                                              .replace({'Medicatiegroep': {2: 1}}),\n",
    "                                            'Effectiviteit', ['Control', 'Medicatiegroep'], \n",
    "                             drop_categories={'Control': 'Nee', \n",
    "                                              'Medicatiegroep': 1})"
   ]
  },
  {
   "cell_type": "code",
   "execution_count": null,
   "metadata": {},
   "outputs": [],
   "source": []
  }
 ],
 "metadata": {
  "jupytext": {
   "encoding": "# -*- coding: utf-8 -*-",
   "formats": "ipynb,py"
  },
  "kernelspec": {
   "display_name": "Python 3 (ipykernel)",
   "language": "python",
   "name": "python3"
  },
  "language_info": {
   "codemirror_mode": {
    "name": "ipython",
    "version": 3
   },
   "file_extension": ".py",
   "mimetype": "text/x-python",
   "name": "python",
   "nbconvert_exporter": "python",
   "pygments_lexer": "ipython3",
   "version": "3.9.0"
  }
 },
 "nbformat": 4,
 "nbformat_minor": 2
}
